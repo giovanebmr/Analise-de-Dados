{
  "nbformat": 4,
  "nbformat_minor": 0,
  "metadata": {
    "colab": {
      "name": "Filtrando dados.ipynb",
      "provenance": []
    },
    "kernelspec": {
      "name": "python3",
      "display_name": "Python 3"
    }
  },
  "cells": [
    {
      "cell_type": "markdown",
      "metadata": {
        "id": "JfaT5vDLLvcf"
      },
      "source": [
        "# **Manipulação básica de dados**\r\n",
        "\r\n",
        "## Filtrando dados\r\n",
        "\r\n"
      ]
    },
    {
      "cell_type": "code",
      "metadata": {
        "id": "Xg7FNlZ6Lpw9"
      },
      "source": [
        "import pandas as pd\r\n",
        "import numpy as np\r\n",
        "\r\n",
        "from pandas import Series, DataFrame"
      ],
      "execution_count": 2,
      "outputs": []
    },
    {
      "cell_type": "code",
      "metadata": {
        "colab": {
          "base_uri": "https://localhost:8080/",
          "height": 235
        },
        "id": "ubnCakyasvI2",
        "outputId": "06fc8441-dc89-4d85-f6d6-394550ade0e8"
      },
      "source": [
        "np.random.seed(25)\r\n",
        "indice = ['linha 1', 'linha 2', 'linha 3',\r\n",
        "          'linha 4', 'linha 5', 'linha 6']\r\n",
        "\r\n",
        "colunas = ['coluna 1', 'coluna 2', 'coluna 3',\r\n",
        "          'coluna 4', 'coluna 5', 'coluna 6']\r\n",
        "\r\n",
        "df = DataFrame( np.random.rand(36).reshape((6,6)),\r\n",
        "                index=indice,\r\n",
        "                columns=colunas)\r\n",
        "\r\n",
        "df"
      ],
      "execution_count": 3,
      "outputs": [
        {
          "output_type": "execute_result",
          "data": {
            "text/html": [
              "<div>\n",
              "<style scoped>\n",
              "    .dataframe tbody tr th:only-of-type {\n",
              "        vertical-align: middle;\n",
              "    }\n",
              "\n",
              "    .dataframe tbody tr th {\n",
              "        vertical-align: top;\n",
              "    }\n",
              "\n",
              "    .dataframe thead th {\n",
              "        text-align: right;\n",
              "    }\n",
              "</style>\n",
              "<table border=\"1\" class=\"dataframe\">\n",
              "  <thead>\n",
              "    <tr style=\"text-align: right;\">\n",
              "      <th></th>\n",
              "      <th>coluna 1</th>\n",
              "      <th>coluna 2</th>\n",
              "      <th>coluna 3</th>\n",
              "      <th>coluna 4</th>\n",
              "      <th>coluna 5</th>\n",
              "      <th>coluna 6</th>\n",
              "    </tr>\n",
              "  </thead>\n",
              "  <tbody>\n",
              "    <tr>\n",
              "      <th>linha 1</th>\n",
              "      <td>0.870124</td>\n",
              "      <td>0.582277</td>\n",
              "      <td>0.278839</td>\n",
              "      <td>0.185911</td>\n",
              "      <td>0.411100</td>\n",
              "      <td>0.117376</td>\n",
              "    </tr>\n",
              "    <tr>\n",
              "      <th>linha 2</th>\n",
              "      <td>0.684969</td>\n",
              "      <td>0.437611</td>\n",
              "      <td>0.556229</td>\n",
              "      <td>0.367080</td>\n",
              "      <td>0.402366</td>\n",
              "      <td>0.113041</td>\n",
              "    </tr>\n",
              "    <tr>\n",
              "      <th>linha 3</th>\n",
              "      <td>0.447031</td>\n",
              "      <td>0.585445</td>\n",
              "      <td>0.161985</td>\n",
              "      <td>0.520719</td>\n",
              "      <td>0.326051</td>\n",
              "      <td>0.699186</td>\n",
              "    </tr>\n",
              "    <tr>\n",
              "      <th>linha 4</th>\n",
              "      <td>0.366395</td>\n",
              "      <td>0.836375</td>\n",
              "      <td>0.481343</td>\n",
              "      <td>0.516502</td>\n",
              "      <td>0.383048</td>\n",
              "      <td>0.997541</td>\n",
              "    </tr>\n",
              "    <tr>\n",
              "      <th>linha 5</th>\n",
              "      <td>0.514244</td>\n",
              "      <td>0.559053</td>\n",
              "      <td>0.034450</td>\n",
              "      <td>0.719930</td>\n",
              "      <td>0.421004</td>\n",
              "      <td>0.436935</td>\n",
              "    </tr>\n",
              "    <tr>\n",
              "      <th>linha 6</th>\n",
              "      <td>0.281701</td>\n",
              "      <td>0.900274</td>\n",
              "      <td>0.669612</td>\n",
              "      <td>0.456069</td>\n",
              "      <td>0.289804</td>\n",
              "      <td>0.525819</td>\n",
              "    </tr>\n",
              "  </tbody>\n",
              "</table>\n",
              "</div>"
            ],
            "text/plain": [
              "         coluna 1  coluna 2  coluna 3  coluna 4  coluna 5  coluna 6\n",
              "linha 1  0.870124  0.582277  0.278839  0.185911  0.411100  0.117376\n",
              "linha 2  0.684969  0.437611  0.556229  0.367080  0.402366  0.113041\n",
              "linha 3  0.447031  0.585445  0.161985  0.520719  0.326051  0.699186\n",
              "linha 4  0.366395  0.836375  0.481343  0.516502  0.383048  0.997541\n",
              "linha 5  0.514244  0.559053  0.034450  0.719930  0.421004  0.436935\n",
              "linha 6  0.281701  0.900274  0.669612  0.456069  0.289804  0.525819"
            ]
          },
          "metadata": {
            "tags": []
          },
          "execution_count": 3
        }
      ]
    },
    {
      "cell_type": "markdown",
      "metadata": {
        "id": "M9dvQNDWs5mv"
      },
      "source": [
        "# **Compadando com um valor**"
      ]
    },
    {
      "cell_type": "code",
      "metadata": {
        "colab": {
          "base_uri": "https://localhost:8080/",
          "height": 235
        },
        "id": "BwbMbioss4A2",
        "outputId": "0b8e47e3-e71b-403e-c38d-4086d1f96d5c"
      },
      "source": [
        "df < .2"
      ],
      "execution_count": 4,
      "outputs": [
        {
          "output_type": "execute_result",
          "data": {
            "text/html": [
              "<div>\n",
              "<style scoped>\n",
              "    .dataframe tbody tr th:only-of-type {\n",
              "        vertical-align: middle;\n",
              "    }\n",
              "\n",
              "    .dataframe tbody tr th {\n",
              "        vertical-align: top;\n",
              "    }\n",
              "\n",
              "    .dataframe thead th {\n",
              "        text-align: right;\n",
              "    }\n",
              "</style>\n",
              "<table border=\"1\" class=\"dataframe\">\n",
              "  <thead>\n",
              "    <tr style=\"text-align: right;\">\n",
              "      <th></th>\n",
              "      <th>coluna 1</th>\n",
              "      <th>coluna 2</th>\n",
              "      <th>coluna 3</th>\n",
              "      <th>coluna 4</th>\n",
              "      <th>coluna 5</th>\n",
              "      <th>coluna 6</th>\n",
              "    </tr>\n",
              "  </thead>\n",
              "  <tbody>\n",
              "    <tr>\n",
              "      <th>linha 1</th>\n",
              "      <td>False</td>\n",
              "      <td>False</td>\n",
              "      <td>False</td>\n",
              "      <td>True</td>\n",
              "      <td>False</td>\n",
              "      <td>True</td>\n",
              "    </tr>\n",
              "    <tr>\n",
              "      <th>linha 2</th>\n",
              "      <td>False</td>\n",
              "      <td>False</td>\n",
              "      <td>False</td>\n",
              "      <td>False</td>\n",
              "      <td>False</td>\n",
              "      <td>True</td>\n",
              "    </tr>\n",
              "    <tr>\n",
              "      <th>linha 3</th>\n",
              "      <td>False</td>\n",
              "      <td>False</td>\n",
              "      <td>True</td>\n",
              "      <td>False</td>\n",
              "      <td>False</td>\n",
              "      <td>False</td>\n",
              "    </tr>\n",
              "    <tr>\n",
              "      <th>linha 4</th>\n",
              "      <td>False</td>\n",
              "      <td>False</td>\n",
              "      <td>False</td>\n",
              "      <td>False</td>\n",
              "      <td>False</td>\n",
              "      <td>False</td>\n",
              "    </tr>\n",
              "    <tr>\n",
              "      <th>linha 5</th>\n",
              "      <td>False</td>\n",
              "      <td>False</td>\n",
              "      <td>True</td>\n",
              "      <td>False</td>\n",
              "      <td>False</td>\n",
              "      <td>False</td>\n",
              "    </tr>\n",
              "    <tr>\n",
              "      <th>linha 6</th>\n",
              "      <td>False</td>\n",
              "      <td>False</td>\n",
              "      <td>False</td>\n",
              "      <td>False</td>\n",
              "      <td>False</td>\n",
              "      <td>False</td>\n",
              "    </tr>\n",
              "  </tbody>\n",
              "</table>\n",
              "</div>"
            ],
            "text/plain": [
              "         coluna 1  coluna 2  coluna 3  coluna 4  coluna 5  coluna 6\n",
              "linha 1     False     False     False      True     False      True\n",
              "linha 2     False     False     False     False     False      True\n",
              "linha 3     False     False      True     False     False     False\n",
              "linha 4     False     False     False     False     False     False\n",
              "linha 5     False     False      True     False     False     False\n",
              "linha 6     False     False     False     False     False     False"
            ]
          },
          "metadata": {
            "tags": []
          },
          "execution_count": 4
        }
      ]
    },
    {
      "cell_type": "markdown",
      "metadata": {
        "id": "O1c6AiVMtI8U"
      },
      "source": [
        "# **Usando valor escalar para filtrar**"
      ]
    },
    {
      "cell_type": "code",
      "metadata": {
        "colab": {
          "base_uri": "https://localhost:8080/"
        },
        "id": "AkIZ7FvTtO9M",
        "outputId": "9914e559-d40d-43c7-f335-66d36112d81d"
      },
      "source": [
        "indice = ['linha 1', 'linha 2', 'linha 3', 'linha 4',\r\n",
        "          'linha 5', 'linha 6', 'linha 7', 'linha 8']\r\n",
        "\r\n",
        "serie_obj = Series(np.arange(8), index=indice)\r\n",
        "\r\n",
        "serie_obj"
      ],
      "execution_count": 6,
      "outputs": [
        {
          "output_type": "execute_result",
          "data": {
            "text/plain": [
              "linha 1    0\n",
              "linha 2    1\n",
              "linha 3    2\n",
              "linha 4    3\n",
              "linha 5    4\n",
              "linha 6    5\n",
              "linha 7    6\n",
              "linha 8    7\n",
              "dtype: int64"
            ]
          },
          "metadata": {
            "tags": []
          },
          "execution_count": 6
        }
      ]
    },
    {
      "cell_type": "code",
      "metadata": {
        "colab": {
          "base_uri": "https://localhost:8080/"
        },
        "id": "n32IkL5Bt5Nj",
        "outputId": "0cd51c84-9602-4ede-d524-b3bf1538063c"
      },
      "source": [
        "filtro = serie_obj > 6\r\n",
        "\r\n",
        "filtro"
      ],
      "execution_count": 8,
      "outputs": [
        {
          "output_type": "execute_result",
          "data": {
            "text/plain": [
              "linha 1    False\n",
              "linha 2    False\n",
              "linha 3    False\n",
              "linha 4    False\n",
              "linha 5    False\n",
              "linha 6    False\n",
              "linha 7    False\n",
              "linha 8     True\n",
              "dtype: bool"
            ]
          },
          "metadata": {
            "tags": []
          },
          "execution_count": 8
        }
      ]
    },
    {
      "cell_type": "code",
      "metadata": {
        "colab": {
          "base_uri": "https://localhost:8080/"
        },
        "id": "OBl6OikxuL68",
        "outputId": "b4b45568-79fa-4a2e-9e5c-57db2c54ca8d"
      },
      "source": [
        "serie_obj[filtro]"
      ],
      "execution_count": 9,
      "outputs": [
        {
          "output_type": "execute_result",
          "data": {
            "text/plain": [
              "linha 8    7\n",
              "dtype: int64"
            ]
          },
          "metadata": {
            "tags": []
          },
          "execution_count": 9
        }
      ]
    },
    {
      "cell_type": "markdown",
      "metadata": {
        "id": "7bi6hm9Pucht"
      },
      "source": [
        "# **Atualizando valores**"
      ]
    },
    {
      "cell_type": "code",
      "metadata": {
        "colab": {
          "base_uri": "https://localhost:8080/"
        },
        "id": "xw_lzqsvufHK",
        "outputId": "1b1db38a-7c31-4448-f634-8c4ed460a480"
      },
      "source": [
        "serie_obj['linha 1', 'linha 5', 'linha 8'] = 8\r\n",
        "\r\n",
        "serie_obj"
      ],
      "execution_count": 11,
      "outputs": [
        {
          "output_type": "execute_result",
          "data": {
            "text/plain": [
              "linha 1    8\n",
              "linha 2    1\n",
              "linha 3    2\n",
              "linha 4    3\n",
              "linha 5    8\n",
              "linha 6    5\n",
              "linha 7    6\n",
              "linha 8    8\n",
              "dtype: int64"
            ]
          },
          "metadata": {
            "tags": []
          },
          "execution_count": 11
        }
      ]
    }
  ]
}