{
  "nbformat": 4,
  "nbformat_minor": 0,
  "metadata": {
    "colab": {
      "name": "VISUAÇIZAÇÃO EM GRÁFICO.ipynb",
      "provenance": [],
      "authorship_tag": "ABX9TyNpbagzjzCZ4AdDFWe6MEn6",
      "include_colab_link": true
    },
    "kernelspec": {
      "name": "python3",
      "display_name": "Python 3"
    }
  },
  "cells": [
    {
      "cell_type": "markdown",
      "metadata": {
        "id": "view-in-github",
        "colab_type": "text"
      },
      "source": [
        "<a href=\"https://colab.research.google.com/github/giovanebmr/Pandas-Python-Colab/blob/main/Testando_Graficos.ipynb\" target=\"_parent\"><img src=\"https://colab.research.google.com/assets/colab-badge.svg\" alt=\"Open In Colab\"/></a>"
      ]
    },
    {
      "cell_type": "code",
      "metadata": {
        "id": "XEgX-sQgzAsu"
      },
      "source": [
        "import pandas as pd"
      ],
      "execution_count": null,
      "outputs": []
    },
    {
      "cell_type": "code",
      "metadata": {
        "id": "7CqPBel-zCth"
      },
      "source": [
        "planilha = pd.read_excel(\"/alunos-matriculados-teste.xlsx\")"
      ],
      "execution_count": null,
      "outputs": []
    },
    {
      "cell_type": "code",
      "metadata": {
        "colab": {
          "base_uri": "https://localhost:8080/",
          "height": 204
        },
        "id": "Jx2gaoFQyShJ",
        "outputId": "a6806a44-912a-4be7-cf44-a0634cf3b56e"
      },
      "source": [
        "planilha.head()"
      ],
      "execution_count": null,
      "outputs": [
        {
          "output_type": "execute_result",
          "data": {
            "text/html": [
              "<div>\n",
              "<style scoped>\n",
              "    .dataframe tbody tr th:only-of-type {\n",
              "        vertical-align: middle;\n",
              "    }\n",
              "\n",
              "    .dataframe tbody tr th {\n",
              "        vertical-align: top;\n",
              "    }\n",
              "\n",
              "    .dataframe thead th {\n",
              "        text-align: right;\n",
              "    }\n",
              "</style>\n",
              "<table border=\"1\" class=\"dataframe\">\n",
              "  <thead>\n",
              "    <tr style=\"text-align: right;\">\n",
              "      <th></th>\n",
              "      <th>CÓDIGO</th>\n",
              "      <th>NOME</th>\n",
              "      <th>NUMERO</th>\n",
              "      <th>CIDADE</th>\n",
              "      <th>TURMA</th>\n",
              "      <th>PAGAMENTO</th>\n",
              "    </tr>\n",
              "  </thead>\n",
              "  <tbody>\n",
              "    <tr>\n",
              "      <th>0</th>\n",
              "      <td>1</td>\n",
              "      <td>joão</td>\n",
              "      <td>4050</td>\n",
              "      <td>palmas</td>\n",
              "      <td>Forro 1</td>\n",
              "      <td>80</td>\n",
              "    </tr>\n",
              "    <tr>\n",
              "      <th>1</th>\n",
              "      <td>2</td>\n",
              "      <td>pedro</td>\n",
              "      <td>3434</td>\n",
              "      <td>palmas</td>\n",
              "      <td>Forro 1</td>\n",
              "      <td>80</td>\n",
              "    </tr>\n",
              "    <tr>\n",
              "      <th>2</th>\n",
              "      <td>3</td>\n",
              "      <td>antonio</td>\n",
              "      <td>5454</td>\n",
              "      <td>palmas</td>\n",
              "      <td>Forro 2</td>\n",
              "      <td>80</td>\n",
              "    </tr>\n",
              "    <tr>\n",
              "      <th>3</th>\n",
              "      <td>4</td>\n",
              "      <td>carla</td>\n",
              "      <td>3434</td>\n",
              "      <td>palmas</td>\n",
              "      <td>Forro 2</td>\n",
              "      <td>80</td>\n",
              "    </tr>\n",
              "    <tr>\n",
              "      <th>4</th>\n",
              "      <td>5</td>\n",
              "      <td>maria</td>\n",
              "      <td>5656</td>\n",
              "      <td>araguaina</td>\n",
              "      <td>Forro 1</td>\n",
              "      <td>80</td>\n",
              "    </tr>\n",
              "  </tbody>\n",
              "</table>\n",
              "</div>"
            ],
            "text/plain": [
              "   CÓDIGO      NOME  NUMERO      CIDADE    TURMA  PAGAMENTO\n",
              "0        1     joão     4050     palmas  Forro 1         80\n",
              "1        2    pedro     3434     palmas  Forro 1         80\n",
              "2        3  antonio     5454     palmas  Forro 2         80\n",
              "3        4    carla     3434     palmas  Forro 2         80\n",
              "4        5    maria     5656  araguaina  Forro 1         80"
            ]
          },
          "metadata": {
            "tags": []
          },
          "execution_count": 13
        }
      ]
    },
    {
      "cell_type": "code",
      "metadata": {
        "colab": {
          "base_uri": "https://localhost:8080/",
          "height": 204
        },
        "id": "wOrempbPzhP-",
        "outputId": "58c55513-67c4-4f5d-b7ca-5864c2f7c7fc"
      },
      "source": [
        "planilha.sample(5)"
      ],
      "execution_count": null,
      "outputs": [
        {
          "output_type": "execute_result",
          "data": {
            "text/html": [
              "<div>\n",
              "<style scoped>\n",
              "    .dataframe tbody tr th:only-of-type {\n",
              "        vertical-align: middle;\n",
              "    }\n",
              "\n",
              "    .dataframe tbody tr th {\n",
              "        vertical-align: top;\n",
              "    }\n",
              "\n",
              "    .dataframe thead th {\n",
              "        text-align: right;\n",
              "    }\n",
              "</style>\n",
              "<table border=\"1\" class=\"dataframe\">\n",
              "  <thead>\n",
              "    <tr style=\"text-align: right;\">\n",
              "      <th></th>\n",
              "      <th>CÓDIGO</th>\n",
              "      <th>NOME</th>\n",
              "      <th>NUMERO</th>\n",
              "      <th>CIDADE</th>\n",
              "      <th>TURMA</th>\n",
              "      <th>PAGAMENTO</th>\n",
              "    </tr>\n",
              "  </thead>\n",
              "  <tbody>\n",
              "    <tr>\n",
              "      <th>8</th>\n",
              "      <td>9</td>\n",
              "      <td>daniela</td>\n",
              "      <td>5454</td>\n",
              "      <td>miracema</td>\n",
              "      <td>Forro 1</td>\n",
              "      <td>80</td>\n",
              "    </tr>\n",
              "    <tr>\n",
              "      <th>5</th>\n",
              "      <td>6</td>\n",
              "      <td>jose</td>\n",
              "      <td>3434</td>\n",
              "      <td>araguaina</td>\n",
              "      <td>Forro 1</td>\n",
              "      <td>80</td>\n",
              "    </tr>\n",
              "    <tr>\n",
              "      <th>4</th>\n",
              "      <td>5</td>\n",
              "      <td>maria</td>\n",
              "      <td>5656</td>\n",
              "      <td>araguaina</td>\n",
              "      <td>Forro 1</td>\n",
              "      <td>80</td>\n",
              "    </tr>\n",
              "    <tr>\n",
              "      <th>9</th>\n",
              "      <td>10</td>\n",
              "      <td>alex</td>\n",
              "      <td>5445</td>\n",
              "      <td>miracema</td>\n",
              "      <td>Forro 1</td>\n",
              "      <td>80</td>\n",
              "    </tr>\n",
              "    <tr>\n",
              "      <th>10</th>\n",
              "      <td>11</td>\n",
              "      <td>bruno</td>\n",
              "      <td>2222</td>\n",
              "      <td>miracema</td>\n",
              "      <td>Forro 1</td>\n",
              "      <td>80</td>\n",
              "    </tr>\n",
              "  </tbody>\n",
              "</table>\n",
              "</div>"
            ],
            "text/plain": [
              "    CÓDIGO      NOME  NUMERO      CIDADE    TURMA  PAGAMENTO\n",
              "8         9  daniela     5454   miracema  Forro 1         80\n",
              "5         6     jose     3434  araguaina  Forro 1         80\n",
              "4         5    maria     5656  araguaina  Forro 1         80\n",
              "9        10     alex     5445   miracema  Forro 1         80\n",
              "10       11    bruno     2222   miracema  Forro 1         80"
            ]
          },
          "metadata": {
            "tags": []
          },
          "execution_count": 9
        }
      ]
    },
    {
      "cell_type": "code",
      "metadata": {
        "colab": {
          "base_uri": "https://localhost:8080/"
        },
        "id": "HDCzJAlfzIRV",
        "outputId": "de9348c0-6dff-46f0-ab02-6dbace0240f9"
      },
      "source": [
        "#planilha[\"CÓDIGO\"].value_counts(ascending=False)\r\n",
        "planilha[\"PAGAMENTO\"].value_counts()"
      ],
      "execution_count": null,
      "outputs": [
        {
          "output_type": "execute_result",
          "data": {
            "text/plain": [
              "80    11\n",
              "Name: PAGAMENTO, dtype: int64"
            ]
          },
          "metadata": {
            "tags": []
          },
          "execution_count": 15
        }
      ]
    },
    {
      "cell_type": "code",
      "metadata": {
        "colab": {
          "base_uri": "https://localhost:8080/",
          "height": 301
        },
        "id": "R2h8Cr6T0MHu",
        "outputId": "71c8d13a-eea6-48d8-f5ac-fead6f4f0b8a"
      },
      "source": [
        "#grafico de barras\r\n",
        "#planilha[\"CÓDIGO\"].value_counts(ascending=False).plot.bar()\r\n",
        "planilha[\"PAGAMENTO\"].value_counts().plot.bar(title=\"teste\", color=\"red\")"
      ],
      "execution_count": null,
      "outputs": [
        {
          "output_type": "execute_result",
          "data": {
            "text/plain": [
              "<matplotlib.axes._subplots.AxesSubplot at 0x7fba24f7b978>"
            ]
          },
          "metadata": {
            "tags": []
          },
          "execution_count": 26
        },
        {
          "output_type": "display_data",
          "data": {
            "image/png": "[encoded data removed]",
            "text/plain": [
              "<Figure size 432x288 with 1 Axes>"
            ]
          },
          "metadata": {
            "tags": [],
            "needs_background": "light"
          }
        }
      ]
    },
    {
      "cell_type": "code",
      "metadata": {
        "colab": {
          "base_uri": "https://localhost:8080/",
          "height": 265
        },
        "id": "4QY3HKtt0fAV",
        "outputId": "6efd756a-e664-4f5d-e351-ce6258096201"
      },
      "source": [
        "#grafico de barras horizontais\r\n",
        "planilha[\"PAGAMENTO\"].value_counts(ascending=True).plot.barh(); # ; no final para tirar a legenda no top"
      ],
      "execution_count": null,
      "outputs": [
        {
          "output_type": "display_data",
          "data": {
            "image/png": "[encoded data removed]",
            "text/plain": [
              "<Figure size 432x288 with 1 Axes>"
            ]
          },
          "metadata": {
            "tags": [],
            "needs_background": "light"
          }
        }
      ]
    },
    {
      "cell_type": "code",
      "metadata": {
        "colab": {
          "base_uri": "https://localhost:8080/",
          "height": 248
        },
        "id": "a40Yvdf9062G",
        "outputId": "5e236544-05d3-4af3-ac77-a2604bf84609"
      },
      "source": [
        "#grafico de pizza\r\n",
        "planilha[\"PAGAMENTO\"].value_counts(ascending=True).plot.pie();"
      ],
      "execution_count": null,
      "outputs": [
        {
          "output_type": "display_data",
          "data": {
            "image/png": "[encoded data removed]",
            "text/plain": [
              "<Figure size 432x288 with 1 Axes>"
            ]
          },
          "metadata": {
            "tags": []
          }
        }
      ]
    },
    {
      "cell_type": "code",
      "metadata": {
        "id": "bINaaqxU263N"
      },
      "source": [
        "import matplotlib.pyplot as plt\r\n"
      ],
      "execution_count": null,
      "outputs": []
    },
    {
      "cell_type": "markdown",
      "metadata": {
        "id": "BxqweR2u2nru"
      },
      "source": [
        "biblioteca de visualização\r\n",
        "https://matplotlib.org/"
      ]
    },
    {
      "cell_type": "code",
      "metadata": {
        "id": "TpwJBlTb2wcP"
      },
      "source": [
        "#alterando o estilo\r\n",
        "plt.style.use(\"ggplot\")"
      ],
      "execution_count": null,
      "outputs": []
    },
    {
      "cell_type": "code",
      "metadata": {
        "colab": {
          "base_uri": "https://localhost:8080/",
          "height": 248
        },
        "id": "ciNORpEw43bx",
        "outputId": "a5c134d9-c762-4dce-af95-bc396b13cd95"
      },
      "source": [
        "#salvando imagem\r\n",
        "planilha[\"PAGAMENTO\"].value_counts(ascending=True).plot.pie();\r\n",
        "plt.savefig(\"Gráfico de pizza teste\")\r\n",
        "#verificar a imagem  salva na pasta content"
      ],
      "execution_count": null,
      "outputs": [
        {
          "output_type": "display_data",
          "data": {
            "image/png": "[encoded data removed]",
            "text/plain": [
              "<Figure size 432x288 with 1 Axes>"
            ]
          },
          "metadata": {
            "tags": []
          }
        }
      ]
    }
  ]
}