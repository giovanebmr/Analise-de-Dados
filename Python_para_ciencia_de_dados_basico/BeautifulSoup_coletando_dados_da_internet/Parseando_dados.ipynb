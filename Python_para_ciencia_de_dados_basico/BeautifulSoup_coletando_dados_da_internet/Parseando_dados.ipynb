{
  "nbformat": 4,
  "nbformat_minor": 0,
  "metadata": {
    "colab": {
      "name": "Parseando dados.ipynb",
      "provenance": [],
      "collapsed_sections": []
    },
    "kernelspec": {
      "name": "python3",
      "display_name": "Python 3"
    }
  },
  "cells": [
    {
      "cell_type": "markdown",
      "metadata": {
        "id": "Daep-bOa0onP"
      },
      "source": [
        "# **Coletando dados na internet**\r\n",
        "\r\n",
        "## **Parseando dados**"
      ]
    },
    {
      "cell_type": "code",
      "metadata": {
        "id": "rTBYiZUv1Kta"
      },
      "source": [
        "from bs4 import BeautifulSoup\r\n",
        "import re"
      ],
      "execution_count": 4,
      "outputs": []
    },
    {
      "cell_type": "code",
      "metadata": {
        "id": "7I8-Ztao2BnV"
      },
      "source": [
        "doc_html = ''' +\r\n",
        "\r\n",
        "\"<html lang=\"pt-br\">\r\n",
        "\r\n",
        "  <head>\r\n",
        "  <meta charset=\"utf-8\">\r\n",
        "  <meta http-equiv=\"X-UA-Compatible\" content=\"IE=edge\">\r\n",
        "  <meta name=\"viewport\" content=\"width=device-width, initial-scale=1\">\r\n",
        "  <meta name=\"google-site-verification\" content=\"fORI6r2VVZHziv8pS917geJaVgJCRAEK6BViHOWI5ck\" /> <!-- jess -->\r\n",
        "  <meta name=\"google-site-verification\" content=\"PXb5dUl105r4jBsDy4KUIPGuk4HcVLTpIJY187NY5A8\" /> <!-- pizza --> \r\n",
        "  <meta name=\"og:image\" content=\"\"/>\r\n",
        "  <title>Pizza de Dados</title>\r\n",
        "  <meta name=\"description\" content=\"O primeiro e o mais querido podcast sobre ciência de dados no Brasil\">\r\n",
        "\r\n",
        "  <link rel=\"stylesheet\" href=\"/assets/css/main.css\">\r\n",
        "</head>\r\n",
        "\r\n",
        "  <body>\r\n",
        "      <div id=\"particles-js\">\r\n",
        "  <div class=\"header\">\r\n",
        "      <h1 style=\"padding-bottom: 1em;\">\r\n",
        "          <img src=\"/assets/img/signo.png\">\r\n",
        "        <span class=\"site-description\">Pizza de Dados</span>\r\n",
        "      </h1><br><br>\r\n",
        "      <div class=\"header-icons\">\r\n",
        "        <a aria-label=\"Manda e-mail\" href=\"/cdn-cgi/l/email-protection#3141584b4b5055545550555e4271565c50585d1f525e5c\"><i class=\"icon fa fa-envelope\"></i></a>\r\n",
        "        <a aria-label=\"Twitter\" target=\"_blank\" href=\"https://twitter.com/pizzadedados\"><i class=\"icon fa fa-twitter\" aria-hidden=\"true\"></i></a>\r\n",
        "        <a aria-label=\"Facebook\" target=\"_blank\" href=\"https://fb.com/pizzadedados\"><i class=\"icon fa fa-facebook-square\" aria-hidden=\"true\"></i></a>\r\n",
        "        <a aria-label=\"YouTube\" target=\"_blank\" href=\"https://youtube.com/c/pizzadedados\"><i class=\"icon fa fa-youtube-play\" aria-hidden=\"true\"></i></a>\r\n",
        "        <a aria-label=\"Instagram\" target=\"_blank\" href=\"https://www.instagram.com/pizzadedados\"><i class=\"icon fa fa-instagram\" aria-hidden=\"true\"></i></a>\r\n",
        "        <a aria-label=\"Github\" target=\"_blank\" href=\"https://github.com/pizzadedados\"><i class=\"icon fa fa-github-alt\" aria-hidden=\"true\"></i></a>\r\n",
        "      </div>\r\n",
        "      <div class=\"header-links\">\r\n",
        "        \r\n",
        "        <a class=\"link\" href=\"#about\" data-scroll>Sobre</a>\r\n",
        "        <a class=\"link\" href=\"#pizzaiolos\" data-scroll>Quem somos</a>\r\n",
        "<!--\r\n",
        "        <a class=\"link\" href=\"#projects\" data-scroll>Projects</a>\r\n",
        "-->\r\n",
        "        <a class=\"link\" target=\"_blank\" href=\"https://medium.com/pizzadedados\">Revista</a>\r\n",
        "        <a class=\"link\" target=\"_blank\" href=\"https://podcast.pizzadedados.com/\">Episódios</a>\r\n",
        "        <a class=\"link\" href=\"#vemcomagente\" data-scroll>Assine</a>\r\n",
        "        <a class=\"link\" href=\"#vemcomagente\" data-scroll>Apoie</a>\r\n",
        "        <a class=\"link\" href=\"/en\" >English</a>\r\n",
        "        \r\n",
        "        \r\n",
        "      </div>\r\n",
        "  </div>\r\n",
        "  <br>\r\n",
        "  <br>\r\n",
        "  <a class=\"down\" href=\"#about\" data-scroll><i class=\"icon fa fa-chevron-down\" aria-hidden=\"true\"></i></a>\r\n",
        "</div>\r\n",
        "\r\n",
        "      <section id=\"about\">\r\n",
        "        \r\n",
        " <div class=\"user-details\">\r\n",
        "  <h1> Sobre o Pizza de Dados </h1>\r\n",
        "  <p> O Pizza de Dados é uma iniciativa de 3 apaixonados por ciência de dados que viviam discutindo assuntos, links e conselhos de carreira. A vontade de aprender mais e compartilhar conhecimento era comum a todos e a ausência de um canal em português para tratar desses temas, levou à ideia de formar o pizza de dados.</p>\r\n",
        "\r\n",
        "  <p> O nome é uma espécie de “homenagem” ao repositório <a href=\"https://guia.datascience.pizza/\">datascience.pizza</a>, que se tornou em pouco tempo uma referência de material de estudos de ciência de dados em português.</p>\r\n",
        "\r\n",
        "  <p> Por ser algo feito de forma simples e leve por pessoas que normalmente se enfiam em muitos projetos ao mesmo tempo, o Pizza de Dados tem 3 regras básicas:</p>\r\n",
        "\r\n",
        "<ol>\r\n",
        "    <li>Só vamos fazer isso enquanto estiver divertido para todos;</li>\r\n",
        "    <li>Não vamos fazer por pressão (de datas, de publicação, de frequência…);</li>\r\n",
        "    <li>Nem todos os pizzaiolos originais devem estar em um episódio.</li>\r\n",
        "</ol>\r\n",
        "\r\n",
        "  <p> Esperamos que você se divirta, nos dê feedback e aprenda um pouquinho! </p>\r\n",
        "</div>\r\n",
        "\r\n",
        "\r\n",
        "      </section>\r\n",
        "      <section id=\"pizzaiolos\">\r\n",
        "        \r\n",
        "<div class=\"user-details\">\r\n",
        "  <h1> Pizzaiolos </h1>\r\n",
        "<p>Conheça um pouco mais das vozes que você está escutando.</p>\r\n",
        "</div>\r\n",
        "  <div class=\"user\">\r\n",
        "    <div class=\"tech\">\r\n",
        "      <h2>Leticia Portella</h2>\r\n",
        "    <img alt=\"foto da Lele Portella\" src=\"https://lh3.googleusercontent.com/-SOWIGDQ-BGM/XEcYjC2F_hI/AAAAAAAAgUQ/3r1h8P6E1kQPXGdcgoEKxtm6GpJNS7PLQCEwYBhgL/w280-h278-p/perfil.jpg\" />\r\n",
        "    <p>Letícia é uma oceanógrafa apaixonada por programação que descobriu como unir sua formação e sua paixão em uma única área: ciência de dados. Gosta de escrever textos técnicos, conhecer novos lugares e coleciona teorias sobre as Crônicas de Gelo e Fogo em seu tempo livre.</p>\r\n",
        "      <center><a class=\"project-link\" href=\"https://leportella.com\">Site</a></center>\r\n",
        "    </div>\r\n",
        "    <div class=\"tech\">\r\n",
        "      <h2>Jessica Temporal</h2>\r\n",
        "      <img alt=\"foto da Jess Temporal\" src=\"https://i.imgur.com/DbhFvDr.jpg\" />\r\n",
        "      <p>Jessica se apaixonou pela ciência de dados analisando dados biológicos ainda na faculdade. Mudou totalmente o foco de suas análises ao se envolver com a Operação Serenata de Amor. Hoje leva seus cachos e seu amor por dados para compor o time de ciência de dados na TV Globo.</p>\r\n",
        "      <center><a class=\"project-link\" href=\"https://jtemporal.com\">Site</a><center>\r\n",
        "    </div>\r\n",
        "    <div class=\"tech\">\r\n",
        "      <h2>Gustavo Coelho</h2>\r\n",
        "      <img alt=\"foto da Gust Coelho\" src=\"https://i.imgur.com/jK2yR0q.jpg\" />\r\n",
        "      <p>Gustavo é líder do time de Ciência de Dados da Rocketmat, aplicando inteligência artificial em RH. Apesar de ter conquistado seu sonho de criança, na verdade ele é formado em economia :P. Ele é conhecido como o alívio cômico do podcast e ganhou o título de muso do Pizza.</p>\r\n",
        "      <center><a class=\"project-link\" href=\"https://gusrabbit.com\">Site</a></center>\r\n",
        "    </div>\r\n",
        "</div>\r\n",
        "\r\n",
        "\r\n",
        "      </section>\r\n",
        "      <section id=\"vemcomagente\">\r\n",
        "        \r\n",
        " <div class=\"user-details\">\r\n",
        "  <h1> Uma pizza tamanho família </h1>\r\n",
        "  <p>Esse grupo diverso estuda ciência de dados para salvar o mundo!</p>\r\n",
        "</div>\r\n",
        "  <div class=\"user\">\r\n",
        "    <div class=\"tech\">\r\n",
        "      <h2>Assine</h2>\r\n",
        "      <p>Dá pra escutar o Pizza em diversas plataformas! Escolha a sua preferida ;)</p>\r\n",
        "      <center>\r\n",
        "        <a class=\"project-link\" href=\"https://itunes.apple.com/us/podcast/pizza-de-dados/id1323137071\">\r\n",
        "          <i class=\"icon fa fa-podcast\"></i>  iTunes\r\n",
        "        </a>\r\n",
        "        <a class=\"project-link\" href=\"https://open.spotify.com/show/5k0Ei0MSg5BuiHshr43aSg\">\r\n",
        "          <i class=\"icon fa fa-spotify\"></i>  Spotify\r\n",
        "        </a>\r\n",
        "        <a class=\"project-link\" href=\"https://feeds.feedburner.com/PizzaDeDados\">\r\n",
        "          <i class=\"icon fa fa-rss\"></i>  RSS\r\n",
        "        </a>\r\n",
        "      </center>\r\n",
        "    </div>\r\n",
        "    <div class=\"tech\">\r\n",
        "      <h2>Apoie</h2>\r\n",
        "      <p>Nós temos uma campanha de financiamento recorrente para ajudar a pagar a edição dos episódios. Se você gosta do nosso trabalho considere nos pagar um café ;)</p>\r\n",
        "      <center><a class=\"project-link\" href=\"https://apoia.se/pizzadedados\">Para a campanha</a></center>\r\n",
        "    </div>\r\n",
        "    <div class=\"tech\">\r\n",
        "      <h2>Partners</h2>\r\n",
        "      <p><a href=\"https://databootcamp.com.br\">Data Bootcamp</a>, o maior bootcamp de Data Science do Brasil! Aprenda a organizar, extrair e interpretar os dados da sua empresa com as tecnologias mais avançadas usadas no mercado.</p>\r\n",
        "      <a href=\"https://databootcamp.com.br\"><img src=\"https://databootcamp.com.br/static/img/logo.png\" style=\"background: #1f2845;\"/></a>\r\n",
        "    </div>\r\n",
        "</div>\r\n",
        "\r\n",
        "\r\n",
        "      </section>\r\n",
        "        \r\n",
        "      <footer class=\"footer\">\r\n",
        "    <p>&copy; Pizza de Dados</p>\r\n",
        "    <p>Build with Jekyll and <span class=\"love\">❤</span> by <a href=\"https://github.com/nrandecker\">Nathan Randecker</a></p>\r\n",
        "</footer>\r\n",
        "  \r\n",
        "  </body>\r\n",
        "  '''"
      ],
      "execution_count": 18,
      "outputs": []
    },
    {
      "cell_type": "code",
      "metadata": {
        "id": "2ZzXupAq2GHm"
      },
      "source": [
        "sopa = BeautifulSoup(doc_html, 'html.parser')"
      ],
      "execution_count": 19,
      "outputs": []
    },
    {
      "cell_type": "markdown",
      "metadata": {
        "id": "tLZ72nm72OsN"
      },
      "source": [
        "# **Pegando dados de uma árvore**"
      ]
    },
    {
      "cell_type": "code",
      "metadata": {
        "colab": {
          "base_uri": "https://localhost:8080/"
        },
        "id": "blV5ybRv2OPR",
        "outputId": "e67597d1-b762-4889-e841-fe6f396dfc45"
      },
      "source": [
        "apenas_texto = sopa.get_text()\r\n",
        "print(apenas_texto)"
      ],
      "execution_count": 10,
      "outputs": [
        {
          "output_type": "stream",
          "text": [
            " +\n",
            "\n",
            "\"\n",
            "\n",
            "\n",
            "\n",
            "\n",
            " \n",
            " \n",
            "\n",
            "Pizza de Dados\n",
            "\n",
            "\n",
            "\n",
            "\n",
            "\n",
            "\n",
            "\n",
            "\n",
            "Pizza de Dados\n",
            "\n",
            "\n",
            "\n",
            "\n",
            "\n",
            "\n",
            "\n",
            "\n",
            "\n",
            "\n",
            "Sobre\n",
            "Quem somos\n",
            "\n",
            "Revista\n",
            "Episódios\n",
            "Assine\n",
            "Apoie\n",
            "English\n",
            "\n",
            "\n",
            "\n",
            "\n",
            "\n",
            "\n",
            "\n",
            "\n",
            " Sobre o Pizza de Dados \n",
            " O Pizza de Dados é uma iniciativa de 3 apaixonados por ciência de dados que viviam discutindo assuntos, links e conselhos de carreira. A vontade de aprender mais e compartilhar conhecimento era comum a todos e a ausência de um canal em português para tratar desses temas, levou à ideia de formar o pizza de dados.\n",
            " O nome é uma espécie de “homenagem” ao repositório datascience.pizza, que se tornou em pouco tempo uma referência de material de estudos de ciência de dados em português.\n",
            " Por ser algo feito de forma simples e leve por pessoas que normalmente se enfiam em muitos projetos ao mesmo tempo, o Pizza de Dados tem 3 regras básicas:\n",
            "\n",
            "Só vamos fazer isso enquanto estiver divertido para todos;\n",
            "Não vamos fazer por pressão (de datas, de publicação, de frequência…);\n",
            "Nem todos os pizzaiolos originais devem estar em um episódio.\n",
            "\n",
            " Esperamos que você se divirta, nos dê feedback e aprenda um pouquinho! \n",
            "\n",
            "\n",
            "\n",
            "\n",
            " Pizzaiolos \n",
            "Conheça um pouco mais das vozes que você está escutando.\n",
            "\n",
            "\n",
            "\n",
            "Leticia Portella\n",
            "\n",
            "Letícia é uma oceanógrafa apaixonada por programação que descobriu como unir sua formação e sua paixão em uma única área: ciência de dados. Gosta de escrever textos técnicos, conhecer novos lugares e coleciona teorias sobre as Crônicas de Gelo e Fogo em seu tempo livre.\n",
            "Site\n",
            "\n",
            "\n",
            "Jessica Temporal\n",
            "\n",
            "Jessica se apaixonou pela ciência de dados analisando dados biológicos ainda na faculdade. Mudou totalmente o foco de suas análises ao se envolver com a Operação Serenata de Amor. Hoje leva seus cachos e seu amor por dados para compor o time de ciência de dados na TV Globo.\n",
            "Site\n",
            "\n",
            "\n",
            "Gustavo Coelho\n",
            "\n",
            "Gustavo é líder do time de Ciência de Dados da Rocketmat, aplicando inteligência artificial em RH. Apesar de ter conquistado seu sonho de criança, na verdade ele é formado em economia :P. Ele é conhecido como o alívio cômico do podcast e ganhou o título de muso do Pizza.\n",
            "Site\n",
            "\n",
            "\n",
            "\n",
            "\n",
            "\n",
            " Uma pizza tamanho família \n",
            "Esse grupo diverso estuda ciência de dados para salvar o mundo!\n",
            "\n",
            "\n",
            "\n",
            "Assine\n",
            "Dá pra escutar o Pizza em diversas plataformas! Escolha a sua preferida ;)\n",
            "\n",
            "\n",
            "  iTunes\n",
            "        \n",
            "\n",
            "  Spotify\n",
            "        \n",
            "\n",
            "  RSS\n",
            "        \n",
            "\n",
            "\n",
            "\n",
            "Apoie\n",
            "Nós temos uma campanha de financiamento recorrente para ajudar a pagar a edição dos episódios. Se você gosta do nosso trabalho considere nos pagar um café ;)\n",
            "Para a campanha\n",
            "\n",
            "\n",
            "Partners\n",
            "Data Bootcamp, o maior bootcamp de Data Science do Brasil! Aprenda a organizar, extrair e interpretar os dados da sua empresa com as tecnologias mais avançadas usadas no mercado.\n",
            "\n",
            "\n",
            "\n",
            "\n",
            "\n",
            "© Pizza de Dados\n",
            "Build with Jekyll and ❤ by Nathan Randecker\n",
            "\n",
            "\n",
            "\n"
          ],
          "name": "stdout"
        }
      ]
    },
    {
      "cell_type": "markdown",
      "metadata": {
        "id": "n3s4SzLw2prD"
      },
      "source": [
        "# **Buscando e reavendo dados de uma árvore**\r\n",
        "## **Reavendo tags por meio de filtos**"
      ]
    },
    {
      "cell_type": "code",
      "metadata": {
        "colab": {
          "base_uri": "https://localhost:8080/"
        },
        "id": "6R4Adj0c2wm3",
        "outputId": "58e7933f-a86e-4be8-f0ca-a9e29eecf3b5"
      },
      "source": [
        "sopa.find_all(id='pizzaiolos')"
      ],
      "execution_count": 14,
      "outputs": [
        {
          "output_type": "execute_result",
          "data": {
            "text/plain": [
              "[<section id=\"pizzaiolos\">\n",
              " <div class=\"user-details\">\n",
              " <h1> Pizzaiolos </h1>\n",
              " <p>Conheça um pouco mais das vozes que você está escutando.</p>\n",
              " </div>\n",
              " <div class=\"user\">\n",
              " <div class=\"tech\">\n",
              " <h2>Leticia Portella</h2>\n",
              " <img alt=\"foto da Lele Portella\" src=\"https://lh3.googleusercontent.com/-SOWIGDQ-BGM/XEcYjC2F_hI/AAAAAAAAgUQ/3r1h8P6E1kQPXGdcgoEKxtm6GpJNS7PLQCEwYBhgL/w280-h278-p/perfil.jpg\">\n",
              " <p>Letícia é uma oceanógrafa apaixonada por programação que descobriu como unir sua formação e sua paixão em uma única área: ciência de dados. Gosta de escrever textos técnicos, conhecer novos lugares e coleciona teorias sobre as Crônicas de Gelo e Fogo em seu tempo livre.</p>\n",
              " <center><a class=\"project-link\" href=\"https://leportella.com\">Site</a></center>\n",
              " </img></div>\n",
              " <div class=\"tech\">\n",
              " <h2>Jessica Temporal</h2>\n",
              " <img alt=\"foto da Jess Temporal\" src=\"https://i.imgur.com/DbhFvDr.jpg\"/>\n",
              " <p>Jessica se apaixonou pela ciência de dados analisando dados biológicos ainda na faculdade. Mudou totalmente o foco de suas análises ao se envolver com a Operação Serenata de Amor. Hoje leva seus cachos e seu amor por dados para compor o time de ciência de dados na TV Globo.</p>\n",
              " <center><a class=\"project-link\" href=\"https://jtemporal.com\">Site</a><center>\n",
              " </center></center></div>\n",
              " <div class=\"tech\">\n",
              " <h2>Gustavo Coelho</h2>\n",
              " <img alt=\"foto da Gust Coelho\" src=\"https://i.imgur.com/jK2yR0q.jpg\"/>\n",
              " <p>Gustavo é líder do time de Ciência de Dados da Rocketmat, aplicando inteligência artificial em RH. Apesar de ter conquistado seu sonho de criança, na verdade ele é formado em economia :P. Ele é conhecido como o alívio cômico do podcast e ganhou o título de muso do Pizza.</p>\n",
              " <center><a class=\"project-link\" href=\"https://gusrabbit.com\">Site</a></center>\n",
              " </div>\n",
              " </div>\n",
              " </section>]"
            ]
          },
          "metadata": {
            "tags": []
          },
          "execution_count": 14
        }
      ]
    },
    {
      "cell_type": "markdown",
      "metadata": {
        "id": "KVxaPPSO37qF"
      },
      "source": [
        "# **Reavendo tags por meio de filtros usando listas**"
      ]
    },
    {
      "cell_type": "code",
      "metadata": {
        "colab": {
          "base_uri": "https://localhost:8080/"
        },
        "id": "Uz_SMDvL4Fhm",
        "outputId": "1a7df274-a5ec-49bd-d8ec-6caa6d48fd67"
      },
      "source": [
        "sopa.find_all(['ol','p'])"
      ],
      "execution_count": 15,
      "outputs": [
        {
          "output_type": "execute_result",
          "data": {
            "text/plain": [
              "[<p> O Pizza de Dados é uma iniciativa de 3 apaixonados por ciência de dados que viviam discutindo assuntos, links e conselhos de carreira. A vontade de aprender mais e compartilhar conhecimento era comum a todos e a ausência de um canal em português para tratar desses temas, levou à ideia de formar o pizza de dados.</p>,\n",
              " <p> O nome é uma espécie de “homenagem” ao repositório <a href=\"https://guia.datascience.pizza/\">datascience.pizza</a>, que se tornou em pouco tempo uma referência de material de estudos de ciência de dados em português.</p>,\n",
              " <p> Por ser algo feito de forma simples e leve por pessoas que normalmente se enfiam em muitos projetos ao mesmo tempo, o Pizza de Dados tem 3 regras básicas:</p>,\n",
              " <ol>\n",
              " <li>Só vamos fazer isso enquanto estiver divertido para todos;</li>\n",
              " <li>Não vamos fazer por pressão (de datas, de publicação, de frequência…);</li>\n",
              " <li>Nem todos os pizzaiolos originais devem estar em um episódio.</li>\n",
              " </ol>,\n",
              " <p> Esperamos que você se divirta, nos dê feedback e aprenda um pouquinho! </p>,\n",
              " <p>Conheça um pouco mais das vozes que você está escutando.</p>,\n",
              " <p>Letícia é uma oceanógrafa apaixonada por programação que descobriu como unir sua formação e sua paixão em uma única área: ciência de dados. Gosta de escrever textos técnicos, conhecer novos lugares e coleciona teorias sobre as Crônicas de Gelo e Fogo em seu tempo livre.</p>,\n",
              " <p>Jessica se apaixonou pela ciência de dados analisando dados biológicos ainda na faculdade. Mudou totalmente o foco de suas análises ao se envolver com a Operação Serenata de Amor. Hoje leva seus cachos e seu amor por dados para compor o time de ciência de dados na TV Globo.</p>,\n",
              " <p>Gustavo é líder do time de Ciência de Dados da Rocketmat, aplicando inteligência artificial em RH. Apesar de ter conquistado seu sonho de criança, na verdade ele é formado em economia :P. Ele é conhecido como o alívio cômico do podcast e ganhou o título de muso do Pizza.</p>,\n",
              " <p>Esse grupo diverso estuda ciência de dados para salvar o mundo!</p>,\n",
              " <p>Dá pra escutar o Pizza em diversas plataformas! Escolha a sua preferida ;)</p>,\n",
              " <p>Nós temos uma campanha de financiamento recorrente para ajudar a pagar a edição dos episódios. Se você gosta do nosso trabalho considere nos pagar um café ;)</p>,\n",
              " <p><a href=\"https://databootcamp.com.br\">Data Bootcamp</a>, o maior bootcamp de Data Science do Brasil! Aprenda a organizar, extrair e interpretar os dados da sua empresa com as tecnologias mais avançadas usadas no mercado.</p>,\n",
              " <p>© Pizza de Dados</p>,\n",
              " <p>Build with Jekyll and <span class=\"love\">❤</span> by <a href=\"https://github.com/nrandecker\">Nathan Randecker</a></p>]"
            ]
          },
          "metadata": {
            "tags": []
          },
          "execution_count": 15
        }
      ]
    },
    {
      "cell_type": "markdown",
      "metadata": {
        "id": "dfcw8MOX5RJn"
      },
      "source": [
        "# **Reavendo tags usando regex**"
      ]
    },
    {
      "cell_type": "code",
      "metadata": {
        "colab": {
          "base_uri": "https://localhost:8080/"
        },
        "id": "B8pybtS05UW8",
        "outputId": "11883b69-78b0-4e41-ecc1-cd1751be8f07"
      },
      "source": [
        "l = re.compile('l')\r\n",
        "\r\n",
        "for tag in sopa.find_all(l):\r\n",
        "  print(tag.name)  "
      ],
      "execution_count": 22,
      "outputs": [
        {
          "output_type": "stream",
          "text": [
            "html\n",
            "title\n",
            "link\n",
            "ol\n",
            "li\n",
            "li\n",
            "li\n"
          ],
          "name": "stdout"
        }
      ]
    },
    {
      "cell_type": "markdown",
      "metadata": {
        "id": "0T0t-jTx6PI2"
      },
      "source": [
        "# **Reavendo tags usando valores boleanos**"
      ]
    },
    {
      "cell_type": "code",
      "metadata": {
        "colab": {
          "base_uri": "https://localhost:8080/"
        },
        "id": "O5K2MX2Y6UNz",
        "outputId": "efb723e4-eeb6-42e3-d445-dc30b74939f9"
      },
      "source": [
        "for tag in sopa.find_all(True):\r\n",
        "  print(tag.name)\r\n"
      ],
      "execution_count": 23,
      "outputs": [
        {
          "output_type": "stream",
          "text": [
            "html\n",
            "head\n",
            "meta\n",
            "meta\n",
            "meta\n",
            "meta\n",
            "meta\n",
            "meta\n",
            "title\n",
            "meta\n",
            "link\n",
            "body\n",
            "div\n",
            "div\n",
            "h1\n",
            "img\n",
            "span\n",
            "br\n",
            "br\n",
            "div\n",
            "a\n",
            "i\n",
            "a\n",
            "i\n",
            "a\n",
            "i\n",
            "a\n",
            "i\n",
            "a\n",
            "i\n",
            "a\n",
            "i\n",
            "div\n",
            "a\n",
            "a\n",
            "a\n",
            "a\n",
            "a\n",
            "a\n",
            "a\n",
            "br\n",
            "br\n",
            "a\n",
            "i\n",
            "section\n",
            "div\n",
            "h1\n",
            "p\n",
            "p\n",
            "a\n",
            "p\n",
            "ol\n",
            "li\n",
            "li\n",
            "li\n",
            "p\n",
            "section\n",
            "div\n",
            "h1\n",
            "p\n",
            "div\n",
            "div\n",
            "h2\n",
            "img\n",
            "p\n",
            "center\n",
            "a\n",
            "div\n",
            "h2\n",
            "img\n",
            "p\n",
            "center\n",
            "a\n",
            "center\n",
            "div\n",
            "h2\n",
            "img\n",
            "p\n",
            "center\n",
            "a\n",
            "section\n",
            "div\n",
            "h1\n",
            "p\n",
            "div\n",
            "div\n",
            "h2\n",
            "p\n",
            "center\n",
            "a\n",
            "i\n",
            "a\n",
            "i\n",
            "a\n",
            "i\n",
            "div\n",
            "h2\n",
            "p\n",
            "center\n",
            "a\n",
            "div\n",
            "h2\n",
            "p\n",
            "a\n",
            "a\n",
            "img\n",
            "footer\n",
            "p\n",
            "p\n",
            "span\n",
            "a\n"
          ],
          "name": "stdout"
        }
      ]
    },
    {
      "cell_type": "markdown",
      "metadata": {
        "id": "X67_GbW56uFZ"
      },
      "source": [
        "# **Reavendo tags usando strings**"
      ]
    },
    {
      "cell_type": "code",
      "metadata": {
        "colab": {
          "base_uri": "https://localhost:8080/"
        },
        "id": "iCb0O_UQ6xNm",
        "outputId": "b00718c1-ef62-4a70-b99f-29e0ebd571d7"
      },
      "source": [
        "for link in sopa.find_all('a'):\r\n",
        "  print(link.get('href'))"
      ],
      "execution_count": 25,
      "outputs": [
        {
          "output_type": "stream",
          "text": [
            "/cdn-cgi/l/email-protection#3141584b4b5055545550555e4271565c50585d1f525e5c\n",
            "https://twitter.com/pizzadedados\n",
            "https://fb.com/pizzadedados\n",
            "https://youtube.com/c/pizzadedados\n",
            "https://www.instagram.com/pizzadedados\n",
            "https://github.com/pizzadedados\n",
            "#about\n",
            "#pizzaiolos\n",
            "https://medium.com/pizzadedados\n",
            "https://podcast.pizzadedados.com/\n",
            "#vemcomagente\n",
            "#vemcomagente\n",
            "/en\n",
            "#about\n",
            "https://guia.datascience.pizza/\n",
            "https://leportella.com\n",
            "https://jtemporal.com\n",
            "https://gusrabbit.com\n",
            "https://itunes.apple.com/us/podcast/pizza-de-dados/id1323137071\n",
            "https://open.spotify.com/show/5k0Ei0MSg5BuiHshr43aSg\n",
            "https://feeds.feedburner.com/PizzaDeDados\n",
            "https://apoia.se/pizzadedados\n",
            "https://databootcamp.com.br\n",
            "https://databootcamp.com.br\n",
            "https://github.com/nrandecker\n"
          ],
          "name": "stdout"
        }
      ]
    },
    {
      "cell_type": "markdown",
      "metadata": {
        "id": "NodDB2KI7AXF"
      },
      "source": [
        "# **Reavendo tags usando regex**"
      ]
    },
    {
      "cell_type": "code",
      "metadata": {
        "colab": {
          "base_uri": "https://localhost:8080/"
        },
        "id": "QuPFivCF7DF4",
        "outputId": "d8b1a674-1c2b-4a13-ae7d-62888b2c3875"
      },
      "source": [
        "sopa.find_all( string=re.compile(\"ciência\") )"
      ],
      "execution_count": 26,
      "outputs": [
        {
          "output_type": "execute_result",
          "data": {
            "text/plain": [
              "[' O Pizza de Dados é uma iniciativa de 3 apaixonados por ciência de dados que viviam discutindo assuntos, links e conselhos de carreira. A vontade de aprender mais e compartilhar conhecimento era comum a todos e a ausência de um canal em português para tratar desses temas, levou à ideia de formar o pizza de dados.',\n",
              " ', que se tornou em pouco tempo uma referência de material de estudos de ciência de dados em português.',\n",
              " 'Letícia é uma oceanógrafa apaixonada por programação que descobriu como unir sua formação e sua paixão em uma única área: ciência de dados. Gosta de escrever textos técnicos, conhecer novos lugares e coleciona teorias sobre as Crônicas de Gelo e Fogo em seu tempo livre.',\n",
              " 'Jessica se apaixonou pela ciência de dados analisando dados biológicos ainda na faculdade. Mudou totalmente o foco de suas análises ao se envolver com a Operação Serenata de Amor. Hoje leva seus cachos e seu amor por dados para compor o time de ciência de dados na TV Globo.',\n",
              " 'Esse grupo diverso estuda ciência de dados para salvar o mundo!']"
            ]
          },
          "metadata": {
            "tags": []
          },
          "execution_count": 26
        }
      ]
    },
    {
      "cell_type": "code",
      "metadata": {
        "id": "bntnVCCx34Ud"
      },
      "source": [
        ""
      ],
      "execution_count": null,
      "outputs": []
    }
  ]
}