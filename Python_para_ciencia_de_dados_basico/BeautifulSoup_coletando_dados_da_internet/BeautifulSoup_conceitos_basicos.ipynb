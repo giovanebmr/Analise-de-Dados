{
  "nbformat": 4,
  "nbformat_minor": 0,
  "metadata": {
    "colab": {
      "name": "BeautifulSoup _conceitos_basicos .ipynb",
      "provenance": []
    },
    "kernelspec": {
      "name": "python3",
      "display_name": "Python 3"
    }
  },
  "cells": [
    {
      "cell_type": "markdown",
      "metadata": {
        "id": "HSITio9bpMU3"
      },
      "source": [
        "# **Coletando dados na internet com BeautifulSoup**\r\n",
        "**Raspagem de dados**"
      ]
    },
    {
      "cell_type": "code",
      "metadata": {
        "id": "XnI3gZrtnAGc"
      },
      "source": [
        "from bs4 import BeautifulSoup"
      ],
      "execution_count": 40,
      "outputs": []
    },
    {
      "cell_type": "code",
      "metadata": {
        "id": "W0jIhPIrplJU"
      },
      "source": [
        "doc_html = ''' +\r\n",
        "\r\n",
        "\"<html lang=\"pt-br\">\r\n",
        "\r\n",
        "  <head>\r\n",
        "  <meta charset=\"utf-8\">\r\n",
        "  <meta http-equiv=\"X-UA-Compatible\" content=\"IE=edge\">\r\n",
        "  <meta name=\"viewport\" content=\"width=device-width, initial-scale=1\">\r\n",
        "  <meta name=\"google-site-verification\" content=\"fORI6r2VVZHziv8pS917geJaVgJCRAEK6BViHOWI5ck\" /> <!-- jess -->\r\n",
        "  <meta name=\"google-site-verification\" content=\"PXb5dUl105r4jBsDy4KUIPGuk4HcVLTpIJY187NY5A8\" /> <!-- pizza --> \r\n",
        "  <meta name=\"og:image\" content=\"\"/>\r\n",
        "  <title>Pizza de Dados</title>\r\n",
        "  <meta name=\"description\" content=\"O primeiro e o mais querido podcast sobre ciência de dados no Brasil\">\r\n",
        "\r\n",
        "  <link rel=\"stylesheet\" href=\"/assets/css/main.css\">\r\n",
        "</head>\r\n",
        "\r\n",
        "  <body>\r\n",
        "      <div id=\"particles-js\">\r\n",
        "  <div class=\"header\">\r\n",
        "      <h1 style=\"padding-bottom: 1em;\">\r\n",
        "          <img src=\"/assets/img/signo.png\">\r\n",
        "        <span class=\"site-description\">Pizza de Dados</span>\r\n",
        "      </h1><br><br>\r\n",
        "      <div class=\"header-icons\">\r\n",
        "        <a aria-label=\"Manda e-mail\" href=\"/cdn-cgi/l/email-protection#3141584b4b5055545550555e4271565c50585d1f525e5c\"><i class=\"icon fa fa-envelope\"></i></a>\r\n",
        "        <a aria-label=\"Twitter\" target=\"_blank\" href=\"https://twitter.com/pizzadedados\"><i class=\"icon fa fa-twitter\" aria-hidden=\"true\"></i></a>\r\n",
        "        <a aria-label=\"Facebook\" target=\"_blank\" href=\"https://fb.com/pizzadedados\"><i class=\"icon fa fa-facebook-square\" aria-hidden=\"true\"></i></a>\r\n",
        "        <a aria-label=\"YouTube\" target=\"_blank\" href=\"https://youtube.com/c/pizzadedados\"><i class=\"icon fa fa-youtube-play\" aria-hidden=\"true\"></i></a>\r\n",
        "        <a aria-label=\"Instagram\" target=\"_blank\" href=\"https://www.instagram.com/pizzadedados\"><i class=\"icon fa fa-instagram\" aria-hidden=\"true\"></i></a>\r\n",
        "        <a aria-label=\"Github\" target=\"_blank\" href=\"https://github.com/pizzadedados\"><i class=\"icon fa fa-github-alt\" aria-hidden=\"true\"></i></a>\r\n",
        "      </div>\r\n",
        "      <div class=\"header-links\">\r\n",
        "        \r\n",
        "        <a class=\"link\" href=\"#about\" data-scroll>Sobre</a>\r\n",
        "        <a class=\"link\" href=\"#pizzaiolos\" data-scroll>Quem somos</a>\r\n",
        "<!--\r\n",
        "        <a class=\"link\" href=\"#projects\" data-scroll>Projects</a>\r\n",
        "-->\r\n",
        "        <a class=\"link\" target=\"_blank\" href=\"https://medium.com/pizzadedados\">Revista</a>\r\n",
        "        <a class=\"link\" target=\"_blank\" href=\"https://podcast.pizzadedados.com/\">Episódios</a>\r\n",
        "        <a class=\"link\" href=\"#vemcomagente\" data-scroll>Assine</a>\r\n",
        "        <a class=\"link\" href=\"#vemcomagente\" data-scroll>Apoie</a>\r\n",
        "        <a class=\"link\" href=\"/en\" >English</a>\r\n",
        "        \r\n",
        "        \r\n",
        "      </div>\r\n",
        "  </div>\r\n",
        "  <br>\r\n",
        "  <br>\r\n",
        "  <a class=\"down\" href=\"#about\" data-scroll><i class=\"icon fa fa-chevron-down\" aria-hidden=\"true\"></i></a>\r\n",
        "</div>\r\n",
        "\r\n",
        "      <section id=\"about\">\r\n",
        "        \r\n",
        " <div class=\"user-details\">\r\n",
        "  <h1> Sobre o Pizza de Dados </h1>\r\n",
        "  <p> O Pizza de Dados é uma iniciativa de 3 apaixonados por ciência de dados que viviam discutindo assuntos, links e conselhos de carreira. A vontade de aprender mais e compartilhar conhecimento era comum a todos e a ausência de um canal em português para tratar desses temas, levou à ideia de formar o pizza de dados.</p>\r\n",
        "\r\n",
        "  <p> O nome é uma espécie de “homenagem” ao repositório <a href=\"https://guia.datascience.pizza/\">datascience.pizza</a>, que se tornou em pouco tempo uma referência de material de estudos de ciência de dados em português.</p>\r\n",
        "\r\n",
        "  <p> Por ser algo feito de forma simples e leve por pessoas que normalmente se enfiam em muitos projetos ao mesmo tempo, o Pizza de Dados tem 3 regras básicas:</p>\r\n",
        "\r\n",
        "<ol>\r\n",
        "    <li>Só vamos fazer isso enquanto estiver divertido para todos;</li>\r\n",
        "    <li>Não vamos fazer por pressão (de datas, de publicação, de frequência…);</li>\r\n",
        "    <li>Nem todos os pizzaiolos originais devem estar em um episódio.</li>\r\n",
        "</ol>\r\n",
        "\r\n",
        "  <p> Esperamos que você se divirta, nos dê feedback e aprenda um pouquinho! </p>\r\n",
        "</div>\r\n",
        "\r\n",
        "\r\n",
        "      </section>\r\n",
        "      <section id=\"pizzaiolos\">\r\n",
        "        \r\n",
        "<div class=\"user-details\">\r\n",
        "  <h1> Pizzaiolos </h1>\r\n",
        "<p>Conheça um pouco mais das vozes que você está escutando.</p>\r\n",
        "</div>\r\n",
        "  <div class=\"user\">\r\n",
        "    <div class=\"tech\">\r\n",
        "      <h2>Leticia Portella</h2>\r\n",
        "    <img alt=\"foto da Lele Portella\" src=\"https://lh3.googleusercontent.com/-SOWIGDQ-BGM/XEcYjC2F_hI/AAAAAAAAgUQ/3r1h8P6E1kQPXGdcgoEKxtm6GpJNS7PLQCEwYBhgL/w280-h278-p/perfil.jpg\" />\r\n",
        "    <p>Letícia é uma oceanógrafa apaixonada por programação que descobriu como unir sua formação e sua paixão em uma única área: ciência de dados. Gosta de escrever textos técnicos, conhecer novos lugares e coleciona teorias sobre as Crônicas de Gelo e Fogo em seu tempo livre.</p>\r\n",
        "      <center><a class=\"project-link\" href=\"https://leportella.com\">Site</a></center>\r\n",
        "    </div>\r\n",
        "    <div class=\"tech\">\r\n",
        "      <h2>Jessica Temporal</h2>\r\n",
        "      <img alt=\"foto da Jess Temporal\" src=\"https://i.imgur.com/DbhFvDr.jpg\" />\r\n",
        "      <p>Jessica se apaixonou pela ciência de dados analisando dados biológicos ainda na faculdade. Mudou totalmente o foco de suas análises ao se envolver com a Operação Serenata de Amor. Hoje leva seus cachos e seu amor por dados para compor o time de ciência de dados na TV Globo.</p>\r\n",
        "      <center><a class=\"project-link\" href=\"https://jtemporal.com\">Site</a><center>\r\n",
        "    </div>\r\n",
        "    <div class=\"tech\">\r\n",
        "      <h2>Gustavo Coelho</h2>\r\n",
        "      <img alt=\"foto da Gust Coelho\" src=\"https://i.imgur.com/jK2yR0q.jpg\" />\r\n",
        "      <p>Gustavo é líder do time de Ciência de Dados da Rocketmat, aplicando inteligência artificial em RH. Apesar de ter conquistado seu sonho de criança, na verdade ele é formado em economia :P. Ele é conhecido como o alívio cômico do podcast e ganhou o título de muso do Pizza.</p>\r\n",
        "      <center><a class=\"project-link\" href=\"https://gusrabbit.com\">Site</a></center>\r\n",
        "    </div>\r\n",
        "</div>\r\n",
        "\r\n",
        "\r\n",
        "      </section>\r\n",
        "      <section id=\"vemcomagente\">\r\n",
        "        \r\n",
        " <div class=\"user-details\">\r\n",
        "  <h1> Uma pizza tamanho família </h1>\r\n",
        "  <p>Esse grupo diverso estuda ciência de dados para salvar o mundo!</p>\r\n",
        "</div>\r\n",
        "  <div class=\"user\">\r\n",
        "    <div class=\"tech\">\r\n",
        "      <h2>Assine</h2>\r\n",
        "      <p>Dá pra escutar o Pizza em diversas plataformas! Escolha a sua preferida ;)</p>\r\n",
        "      <center>\r\n",
        "        <a class=\"project-link\" href=\"https://itunes.apple.com/us/podcast/pizza-de-dados/id1323137071\">\r\n",
        "          <i class=\"icon fa fa-podcast\"></i>  iTunes\r\n",
        "        </a>\r\n",
        "        <a class=\"project-link\" href=\"https://open.spotify.com/show/5k0Ei0MSg5BuiHshr43aSg\">\r\n",
        "          <i class=\"icon fa fa-spotify\"></i>  Spotify\r\n",
        "        </a>\r\n",
        "        <a class=\"project-link\" href=\"https://feeds.feedburner.com/PizzaDeDados\">\r\n",
        "          <i class=\"icon fa fa-rss\"></i>  RSS\r\n",
        "        </a>\r\n",
        "      </center>\r\n",
        "    </div>\r\n",
        "    <div class=\"tech\">\r\n",
        "      <h2>Apoie</h2>\r\n",
        "      <p>Nós temos uma campanha de financiamento recorrente para ajudar a pagar a edição dos episódios. Se você gosta do nosso trabalho considere nos pagar um café ;)</p>\r\n",
        "      <center><a class=\"project-link\" href=\"https://apoia.se/pizzadedados\">Para a campanha</a></center>\r\n",
        "    </div>\r\n",
        "    <div class=\"tech\">\r\n",
        "      <h2>Partners</h2>\r\n",
        "      <p><a href=\"https://databootcamp.com.br\">Data Bootcamp</a>, o maior bootcamp de Data Science do Brasil! Aprenda a organizar, extrair e interpretar os dados da sua empresa com as tecnologias mais avançadas usadas no mercado.</p>\r\n",
        "      <a href=\"https://databootcamp.com.br\"><img src=\"https://databootcamp.com.br/static/img/logo.png\" style=\"background: #1f2845;\"/></a>\r\n",
        "    </div>\r\n",
        "</div>\r\n",
        "\r\n",
        "\r\n",
        "      </section>\r\n",
        "        \r\n",
        "      <footer class=\"footer\">\r\n",
        "    <p>&copy; Pizza de Dados</p>\r\n",
        "    <p>Build with Jekyll and <span class=\"love\">❤</span> by <a href=\"https://github.com/nrandecker\">Nathan Randecker</a></p>\r\n",
        "</footer>\r\n",
        "  \r\n",
        "  </body>\r\n",
        "  '''"
      ],
      "execution_count": 41,
      "outputs": []
    },
    {
      "cell_type": "code",
      "metadata": {
        "colab": {
          "base_uri": "https://localhost:8080/"
        },
        "id": "cPgXvFrfqGkW",
        "outputId": "816efe2e-4c74-463a-f8b9-61d57f7032b3"
      },
      "source": [
        "sopa = BeautifulSoup(doc_html, 'html.parser')\r\n",
        "print(sopa)"
      ],
      "execution_count": 42,
      "outputs": [
        {
          "output_type": "stream",
          "text": [
            " +\n",
            "\n",
            "\"<html lang=\"pt-br\">\n",
            "<head>\n",
            "<meta charset=\"utf-8\"/>\n",
            "<meta content=\"IE=edge\" http-equiv=\"X-UA-Compatible\"/>\n",
            "<meta content=\"width=device-width, initial-scale=1\" name=\"viewport\"/>\n",
            "<meta content=\"fORI6r2VVZHziv8pS917geJaVgJCRAEK6BViHOWI5ck\" name=\"google-site-verification\"> <!-- jess -->\n",
            "<meta content=\"PXb5dUl105r4jBsDy4KUIPGuk4HcVLTpIJY187NY5A8\" name=\"google-site-verification\"> <!-- pizza -->\n",
            "<meta content=\"\" name=\"og:image\">\n",
            "<title>Pizza de Dados</title>\n",
            "<meta content=\"O primeiro e o mais querido podcast sobre ciência de dados no Brasil\" name=\"description\"/>\n",
            "<link href=\"/assets/css/main.css\" rel=\"stylesheet\"/>\n",
            "</meta></meta></meta></head>\n",
            "<body>\n",
            "<div id=\"particles-js\">\n",
            "<div class=\"header\">\n",
            "<h1 style=\"padding-bottom: 1em;\">\n",
            "<img src=\"/assets/img/signo.png\"/>\n",
            "<span class=\"site-description\">Pizza de Dados</span>\n",
            "</h1><br/><br/>\n",
            "<div class=\"header-icons\">\n",
            "<a aria-label=\"Manda e-mail\" href=\"/cdn-cgi/l/email-protection#3141584b4b5055545550555e4271565c50585d1f525e5c\"><i class=\"icon fa fa-envelope\"></i></a>\n",
            "<a aria-label=\"Twitter\" href=\"https://twitter.com/pizzadedados\" target=\"_blank\"><i aria-hidden=\"true\" class=\"icon fa fa-twitter\"></i></a>\n",
            "<a aria-label=\"Facebook\" href=\"https://fb.com/pizzadedados\" target=\"_blank\"><i aria-hidden=\"true\" class=\"icon fa fa-facebook-square\"></i></a>\n",
            "<a aria-label=\"YouTube\" href=\"https://youtube.com/c/pizzadedados\" target=\"_blank\"><i aria-hidden=\"true\" class=\"icon fa fa-youtube-play\"></i></a>\n",
            "<a aria-label=\"Instagram\" href=\"https://www.instagram.com/pizzadedados\" target=\"_blank\"><i aria-hidden=\"true\" class=\"icon fa fa-instagram\"></i></a>\n",
            "<a aria-label=\"Github\" href=\"https://github.com/pizzadedados\" target=\"_blank\"><i aria-hidden=\"true\" class=\"icon fa fa-github-alt\"></i></a>\n",
            "</div>\n",
            "<div class=\"header-links\">\n",
            "<a class=\"link\" data-scroll=\"\" href=\"#about\">Sobre</a>\n",
            "<a class=\"link\" data-scroll=\"\" href=\"#pizzaiolos\">Quem somos</a>\n",
            "<!--\n",
            "        <a class=\"link\" href=\"#projects\" data-scroll>Projects</a>\n",
            "-->\n",
            "<a class=\"link\" href=\"https://medium.com/pizzadedados\" target=\"_blank\">Revista</a>\n",
            "<a class=\"link\" href=\"https://podcast.pizzadedados.com/\" target=\"_blank\">Episódios</a>\n",
            "<a class=\"link\" data-scroll=\"\" href=\"#vemcomagente\">Assine</a>\n",
            "<a class=\"link\" data-scroll=\"\" href=\"#vemcomagente\">Apoie</a>\n",
            "<a class=\"link\" href=\"/en\">English</a>\n",
            "</div>\n",
            "</div>\n",
            "<br/>\n",
            "<br/>\n",
            "<a class=\"down\" data-scroll=\"\" href=\"#about\"><i aria-hidden=\"true\" class=\"icon fa fa-chevron-down\"></i></a>\n",
            "</div>\n",
            "<section id=\"about\">\n",
            "<div class=\"user-details\">\n",
            "<h1> Sobre o Pizza de Dados </h1>\n",
            "<p> O Pizza de Dados é uma iniciativa de 3 apaixonados por ciência de dados que viviam discutindo assuntos, links e conselhos de carreira. A vontade de aprender mais e compartilhar conhecimento era comum a todos e a ausência de um canal em português para tratar desses temas, levou à ideia de formar o pizza de dados.</p>\n",
            "<p> O nome é uma espécie de “homenagem” ao repositório <a href=\"https://guia.datascience.pizza/\">datascience.pizza</a>, que se tornou em pouco tempo uma referência de material de estudos de ciência de dados em português.</p>\n",
            "<p> Por ser algo feito de forma simples e leve por pessoas que normalmente se enfiam em muitos projetos ao mesmo tempo, o Pizza de Dados tem 3 regras básicas:</p>\n",
            "<ol>\n",
            "<li>Só vamos fazer isso enquanto estiver divertido para todos;</li>\n",
            "<li>Não vamos fazer por pressão (de datas, de publicação, de frequência…);</li>\n",
            "<li>Nem todos os pizzaiolos originais devem estar em um episódio.</li>\n",
            "</ol>\n",
            "<p> Esperamos que você se divirta, nos dê feedback e aprenda um pouquinho! </p>\n",
            "</div>\n",
            "</section>\n",
            "<section id=\"pizzaiolos\">\n",
            "<div class=\"user-details\">\n",
            "<h1> Pizzaiolos </h1>\n",
            "<p>Conheça um pouco mais das vozes que você está escutando.</p>\n",
            "</div>\n",
            "<div class=\"user\">\n",
            "<div class=\"tech\">\n",
            "<h2>Leticia Portella</h2>\n",
            "<img alt=\"foto da Lele Portella\" src=\"https://lh3.googleusercontent.com/-SOWIGDQ-BGM/XEcYjC2F_hI/AAAAAAAAgUQ/3r1h8P6E1kQPXGdcgoEKxtm6GpJNS7PLQCEwYBhgL/w280-h278-p/perfil.jpg\">\n",
            "<p>Letícia é uma oceanógrafa apaixonada por programação que descobriu como unir sua formação e sua paixão em uma única área: ciência de dados. Gosta de escrever textos técnicos, conhecer novos lugares e coleciona teorias sobre as Crônicas de Gelo e Fogo em seu tempo livre.</p>\n",
            "<center><a class=\"project-link\" href=\"https://leportella.com\">Site</a></center>\n",
            "</img></div>\n",
            "<div class=\"tech\">\n",
            "<h2>Jessica Temporal</h2>\n",
            "<img alt=\"foto da Jess Temporal\" src=\"https://i.imgur.com/DbhFvDr.jpg\"/>\n",
            "<p>Jessica se apaixonou pela ciência de dados analisando dados biológicos ainda na faculdade. Mudou totalmente o foco de suas análises ao se envolver com a Operação Serenata de Amor. Hoje leva seus cachos e seu amor por dados para compor o time de ciência de dados na TV Globo.</p>\n",
            "<center><a class=\"project-link\" href=\"https://jtemporal.com\">Site</a><center>\n",
            "</center></center></div>\n",
            "<div class=\"tech\">\n",
            "<h2>Gustavo Coelho</h2>\n",
            "<img alt=\"foto da Gust Coelho\" src=\"https://i.imgur.com/jK2yR0q.jpg\"/>\n",
            "<p>Gustavo é líder do time de Ciência de Dados da Rocketmat, aplicando inteligência artificial em RH. Apesar de ter conquistado seu sonho de criança, na verdade ele é formado em economia :P. Ele é conhecido como o alívio cômico do podcast e ganhou o título de muso do Pizza.</p>\n",
            "<center><a class=\"project-link\" href=\"https://gusrabbit.com\">Site</a></center>\n",
            "</div>\n",
            "</div>\n",
            "</section>\n",
            "<section id=\"vemcomagente\">\n",
            "<div class=\"user-details\">\n",
            "<h1> Uma pizza tamanho família </h1>\n",
            "<p>Esse grupo diverso estuda ciência de dados para salvar o mundo!</p>\n",
            "</div>\n",
            "<div class=\"user\">\n",
            "<div class=\"tech\">\n",
            "<h2>Assine</h2>\n",
            "<p>Dá pra escutar o Pizza em diversas plataformas! Escolha a sua preferida ;)</p>\n",
            "<center>\n",
            "<a class=\"project-link\" href=\"https://itunes.apple.com/us/podcast/pizza-de-dados/id1323137071\">\n",
            "<i class=\"icon fa fa-podcast\"></i>  iTunes\n",
            "        </a>\n",
            "<a class=\"project-link\" href=\"https://open.spotify.com/show/5k0Ei0MSg5BuiHshr43aSg\">\n",
            "<i class=\"icon fa fa-spotify\"></i>  Spotify\n",
            "        </a>\n",
            "<a class=\"project-link\" href=\"https://feeds.feedburner.com/PizzaDeDados\">\n",
            "<i class=\"icon fa fa-rss\"></i>  RSS\n",
            "        </a>\n",
            "</center>\n",
            "</div>\n",
            "<div class=\"tech\">\n",
            "<h2>Apoie</h2>\n",
            "<p>Nós temos uma campanha de financiamento recorrente para ajudar a pagar a edição dos episódios. Se você gosta do nosso trabalho considere nos pagar um café ;)</p>\n",
            "<center><a class=\"project-link\" href=\"https://apoia.se/pizzadedados\">Para a campanha</a></center>\n",
            "</div>\n",
            "<div class=\"tech\">\n",
            "<h2>Partners</h2>\n",
            "<p><a href=\"https://databootcamp.com.br\">Data Bootcamp</a>, o maior bootcamp de Data Science do Brasil! Aprenda a organizar, extrair e interpretar os dados da sua empresa com as tecnologias mais avançadas usadas no mercado.</p>\n",
            "<a href=\"https://databootcamp.com.br\"><img src=\"https://databootcamp.com.br/static/img/logo.png\" style=\"background: #1f2845;\"/></a>\n",
            "</div>\n",
            "</div>\n",
            "</section>\n",
            "<footer class=\"footer\">\n",
            "<p>© Pizza de Dados</p>\n",
            "<p>Build with Jekyll and <span class=\"love\">❤</span> by <a href=\"https://github.com/nrandecker\">Nathan Randecker</a></p>\n",
            "</footer>\n",
            "</body>\n",
            "</html>\n"
          ],
          "name": "stdout"
        }
      ]
    },
    {
      "cell_type": "code",
      "metadata": {
        "colab": {
          "base_uri": "https://localhost:8080/"
        },
        "id": "wKC1sQozrGA8",
        "outputId": "49f59000-e3cd-468e-cb45-4e109606e76b"
      },
      "source": [
        "print(sopa.prettify()[0:400])"
      ],
      "execution_count": 44,
      "outputs": [
        {
          "output_type": "stream",
          "text": [
            "+\n",
            "\n",
            "\"\n",
            "<html lang=\"pt-br\">\n",
            " <head>\n",
            "  <meta charset=\"utf-8\"/>\n",
            "  <meta content=\"IE=edge\" http-equiv=\"X-UA-Compatible\"/>\n",
            "  <meta content=\"width=device-width, initial-scale=1\" name=\"viewport\"/>\n",
            "  <meta content=\"fORI6r2VVZHziv8pS917geJaVgJCRAEK6BViHOWI5ck\" name=\"google-site-verification\">\n",
            "   <!-- jess -->\n",
            "   <meta content=\"PXb5dUl105r4jBsDy4KUIPGuk4HcVLTpIJY187NY5A8\" name=\"google-site-verification\">\n",
            "    \n"
          ],
          "name": "stdout"
        }
      ]
    },
    {
      "cell_type": "markdown",
      "metadata": {
        "id": "qQTwCuekrXdy"
      },
      "source": [
        "# Objetos Tag\r\n",
        "## Trabalhando com nomes"
      ]
    },
    {
      "cell_type": "code",
      "metadata": {
        "colab": {
          "base_uri": "https://localhost:8080/"
        },
        "id": "Ivr0_KWbrpEM",
        "outputId": "e5cf9523-cd0d-4d4d-9ad1-868143fb8063"
      },
      "source": [
        "sopa = BeautifulSoup( '<p body=\"descricao\">Esse grupo diverso estuda ciência de dados para salvar o mundo!</p>', 'html.parser')\r\n",
        "\r\n",
        "tag = sopa.p\r\n",
        "\r\n",
        "type(tag)"
      ],
      "execution_count": 45,
      "outputs": [
        {
          "output_type": "execute_result",
          "data": {
            "text/plain": [
              "bs4.element.Tag"
            ]
          },
          "metadata": {
            "tags": []
          },
          "execution_count": 45
        }
      ]
    },
    {
      "cell_type": "code",
      "metadata": {
        "colab": {
          "base_uri": "https://localhost:8080/",
          "height": 35
        },
        "id": "y7fvcngBt-kG",
        "outputId": "8cf3bd7a-e29c-4e46-ca75-8b49f9558ce2"
      },
      "source": [
        "tag.name"
      ],
      "execution_count": 46,
      "outputs": [
        {
          "output_type": "execute_result",
          "data": {
            "application/vnd.google.colaboratory.intrinsic+json": {
              "type": "string"
            },
            "text/plain": [
              "'p'"
            ]
          },
          "metadata": {
            "tags": []
          },
          "execution_count": 46
        }
      ]
    },
    {
      "cell_type": "code",
      "metadata": {
        "colab": {
          "base_uri": "https://localhost:8080/"
        },
        "id": "2kWaqpn2uAtF",
        "outputId": "3cdf3f4b-3d04-4a0e-b715-9e3c9a2805a2"
      },
      "source": [
        "tag.name = 'h1'\r\n",
        "print(tag.name)"
      ],
      "execution_count": 47,
      "outputs": [
        {
          "output_type": "stream",
          "text": [
            "h1\n"
          ],
          "name": "stdout"
        }
      ]
    },
    {
      "cell_type": "code",
      "metadata": {
        "colab": {
          "base_uri": "https://localhost:8080/"
        },
        "id": "anedSg-juKeO",
        "outputId": "62571db7-6c7c-4164-826d-6c8cf640921a"
      },
      "source": [
        "tag"
      ],
      "execution_count": 48,
      "outputs": [
        {
          "output_type": "execute_result",
          "data": {
            "text/plain": [
              "<h1 body=\"descricao\">Esse grupo diverso estuda ciência de dados para salvar o mundo!</h1>"
            ]
          },
          "metadata": {
            "tags": []
          },
          "execution_count": 48
        }
      ]
    },
    {
      "cell_type": "markdown",
      "metadata": {
        "id": "XjZ6JxILuPJV"
      },
      "source": [
        "# **Trabalhando com atributos**"
      ]
    },
    {
      "cell_type": "code",
      "metadata": {
        "colab": {
          "base_uri": "https://localhost:8080/",
          "height": 35
        },
        "id": "rBD2jjwbuS2b",
        "outputId": "39323926-6cb1-4ac5-f1ef-ede6e74d83ef"
      },
      "source": [
        "tag['body']"
      ],
      "execution_count": 49,
      "outputs": [
        {
          "output_type": "execute_result",
          "data": {
            "application/vnd.google.colaboratory.intrinsic+json": {
              "type": "string"
            },
            "text/plain": [
              "'descricao'"
            ]
          },
          "metadata": {
            "tags": []
          },
          "execution_count": 49
        }
      ]
    },
    {
      "cell_type": "code",
      "metadata": {
        "colab": {
          "base_uri": "https://localhost:8080/"
        },
        "id": "wUMmvQGMvC4-",
        "outputId": "4cf734ac-c5d2-4845-bc48-5d36fec82817"
      },
      "source": [
        "tag.attrs"
      ],
      "execution_count": 50,
      "outputs": [
        {
          "output_type": "execute_result",
          "data": {
            "text/plain": [
              "{'body': 'descricao'}"
            ]
          },
          "metadata": {
            "tags": []
          },
          "execution_count": 50
        }
      ]
    },
    {
      "cell_type": "code",
      "metadata": {
        "colab": {
          "base_uri": "https://localhost:8080/"
        },
        "id": "K9-3S5pFvusX",
        "outputId": "12f2e452-61cf-4a8d-c606-96dc134b872e"
      },
      "source": [
        "tag['id'] = 3\r\n",
        "tag.attrs"
      ],
      "execution_count": 51,
      "outputs": [
        {
          "output_type": "execute_result",
          "data": {
            "text/plain": [
              "{'body': 'descricao', 'id': 3}"
            ]
          },
          "metadata": {
            "tags": []
          },
          "execution_count": 51
        }
      ]
    },
    {
      "cell_type": "code",
      "metadata": {
        "colab": {
          "base_uri": "https://localhost:8080/"
        },
        "id": "xnEiRk9hwA0_",
        "outputId": "fffd00de-ef1e-4398-dc94-b27419aee7a1"
      },
      "source": [
        "tag"
      ],
      "execution_count": 52,
      "outputs": [
        {
          "output_type": "execute_result",
          "data": {
            "text/plain": [
              "<h1 body=\"descricao\" id=\"3\">Esse grupo diverso estuda ciência de dados para salvar o mundo!</h1>"
            ]
          },
          "metadata": {
            "tags": []
          },
          "execution_count": 52
        }
      ]
    },
    {
      "cell_type": "code",
      "metadata": {
        "colab": {
          "base_uri": "https://localhost:8080/"
        },
        "id": "5menYmKAwNfd",
        "outputId": "ff29ec91-eac9-4cac-acb5-61d938a4db26"
      },
      "source": [
        "del tag['body']\r\n",
        "tag.attrs"
      ],
      "execution_count": 53,
      "outputs": [
        {
          "output_type": "execute_result",
          "data": {
            "text/plain": [
              "{'id': 3}"
            ]
          },
          "metadata": {
            "tags": []
          },
          "execution_count": 53
        }
      ]
    },
    {
      "cell_type": "code",
      "metadata": {
        "colab": {
          "base_uri": "https://localhost:8080/"
        },
        "id": "Njbv_Oa_wSkN",
        "outputId": "858da0e1-8f7d-461f-fdab-8d555ec4ba34"
      },
      "source": [
        "tag"
      ],
      "execution_count": 54,
      "outputs": [
        {
          "output_type": "execute_result",
          "data": {
            "text/plain": [
              "<h1 id=\"3\">Esse grupo diverso estuda ciência de dados para salvar o mundo!</h1>"
            ]
          },
          "metadata": {
            "tags": []
          },
          "execution_count": 54
        }
      ]
    },
    {
      "cell_type": "markdown",
      "metadata": {
        "id": "2QVRMxEAwV-J"
      },
      "source": [
        "# **Usando tags**"
      ]
    },
    {
      "cell_type": "code",
      "metadata": {
        "colab": {
          "base_uri": "https://localhost:8080/"
        },
        "id": "sGRHHnHBwX9I",
        "outputId": "d536a65e-711f-4024-ed69-6b0ea62782c9"
      },
      "source": [
        "sopa = BeautifulSoup(doc_html, 'html.parser')\r\n",
        "sopa.title"
      ],
      "execution_count": 57,
      "outputs": [
        {
          "output_type": "execute_result",
          "data": {
            "text/plain": [
              "<title>Pizza de Dados</title>"
            ]
          },
          "metadata": {
            "tags": []
          },
          "execution_count": 57
        }
      ]
    },
    {
      "cell_type": "code",
      "metadata": {
        "colab": {
          "base_uri": "https://localhost:8080/"
        },
        "id": "XEPBWPL7wqIm",
        "outputId": "09b5883f-1700-4b6a-fb80-a2dd0773e74f"
      },
      "source": [
        "sopa.body"
      ],
      "execution_count": 58,
      "outputs": [
        {
          "output_type": "execute_result",
          "data": {
            "text/plain": [
              "<body>\n",
              "<div id=\"particles-js\">\n",
              "<div class=\"header\">\n",
              "<h1 style=\"padding-bottom: 1em;\">\n",
              "<img src=\"/assets/img/signo.png\"/>\n",
              "<span class=\"site-description\">Pizza de Dados</span>\n",
              "</h1><br/><br/>\n",
              "<div class=\"header-icons\">\n",
              "<a aria-label=\"Manda e-mail\" href=\"/cdn-cgi/l/email-protection#3141584b4b5055545550555e4271565c50585d1f525e5c\"><i class=\"icon fa fa-envelope\"></i></a>\n",
              "<a aria-label=\"Twitter\" href=\"https://twitter.com/pizzadedados\" target=\"_blank\"><i aria-hidden=\"true\" class=\"icon fa fa-twitter\"></i></a>\n",
              "<a aria-label=\"Facebook\" href=\"https://fb.com/pizzadedados\" target=\"_blank\"><i aria-hidden=\"true\" class=\"icon fa fa-facebook-square\"></i></a>\n",
              "<a aria-label=\"YouTube\" href=\"https://youtube.com/c/pizzadedados\" target=\"_blank\"><i aria-hidden=\"true\" class=\"icon fa fa-youtube-play\"></i></a>\n",
              "<a aria-label=\"Instagram\" href=\"https://www.instagram.com/pizzadedados\" target=\"_blank\"><i aria-hidden=\"true\" class=\"icon fa fa-instagram\"></i></a>\n",
              "<a aria-label=\"Github\" href=\"https://github.com/pizzadedados\" target=\"_blank\"><i aria-hidden=\"true\" class=\"icon fa fa-github-alt\"></i></a>\n",
              "</div>\n",
              "<div class=\"header-links\">\n",
              "<a class=\"link\" data-scroll=\"\" href=\"#about\">Sobre</a>\n",
              "<a class=\"link\" data-scroll=\"\" href=\"#pizzaiolos\">Quem somos</a>\n",
              "<!--\n",
              "        <a class=\"link\" href=\"#projects\" data-scroll>Projects</a>\n",
              "-->\n",
              "<a class=\"link\" href=\"https://medium.com/pizzadedados\" target=\"_blank\">Revista</a>\n",
              "<a class=\"link\" href=\"https://podcast.pizzadedados.com/\" target=\"_blank\">Episódios</a>\n",
              "<a class=\"link\" data-scroll=\"\" href=\"#vemcomagente\">Assine</a>\n",
              "<a class=\"link\" data-scroll=\"\" href=\"#vemcomagente\">Apoie</a>\n",
              "<a class=\"link\" href=\"/en\">English</a>\n",
              "</div>\n",
              "</div>\n",
              "<br/>\n",
              "<br/>\n",
              "<a class=\"down\" data-scroll=\"\" href=\"#about\"><i aria-hidden=\"true\" class=\"icon fa fa-chevron-down\"></i></a>\n",
              "</div>\n",
              "<section id=\"about\">\n",
              "<div class=\"user-details\">\n",
              "<h1> Sobre o Pizza de Dados </h1>\n",
              "<p> O Pizza de Dados é uma iniciativa de 3 apaixonados por ciência de dados que viviam discutindo assuntos, links e conselhos de carreira. A vontade de aprender mais e compartilhar conhecimento era comum a todos e a ausência de um canal em português para tratar desses temas, levou à ideia de formar o pizza de dados.</p>\n",
              "<p> O nome é uma espécie de “homenagem” ao repositório <a href=\"https://guia.datascience.pizza/\">datascience.pizza</a>, que se tornou em pouco tempo uma referência de material de estudos de ciência de dados em português.</p>\n",
              "<p> Por ser algo feito de forma simples e leve por pessoas que normalmente se enfiam em muitos projetos ao mesmo tempo, o Pizza de Dados tem 3 regras básicas:</p>\n",
              "<ol>\n",
              "<li>Só vamos fazer isso enquanto estiver divertido para todos;</li>\n",
              "<li>Não vamos fazer por pressão (de datas, de publicação, de frequência…);</li>\n",
              "<li>Nem todos os pizzaiolos originais devem estar em um episódio.</li>\n",
              "</ol>\n",
              "<p> Esperamos que você se divirta, nos dê feedback e aprenda um pouquinho! </p>\n",
              "</div>\n",
              "</section>\n",
              "<section id=\"pizzaiolos\">\n",
              "<div class=\"user-details\">\n",
              "<h1> Pizzaiolos </h1>\n",
              "<p>Conheça um pouco mais das vozes que você está escutando.</p>\n",
              "</div>\n",
              "<div class=\"user\">\n",
              "<div class=\"tech\">\n",
              "<h2>Leticia Portella</h2>\n",
              "<img alt=\"foto da Lele Portella\" src=\"https://lh3.googleusercontent.com/-SOWIGDQ-BGM/XEcYjC2F_hI/AAAAAAAAgUQ/3r1h8P6E1kQPXGdcgoEKxtm6GpJNS7PLQCEwYBhgL/w280-h278-p/perfil.jpg\">\n",
              "<p>Letícia é uma oceanógrafa apaixonada por programação que descobriu como unir sua formação e sua paixão em uma única área: ciência de dados. Gosta de escrever textos técnicos, conhecer novos lugares e coleciona teorias sobre as Crônicas de Gelo e Fogo em seu tempo livre.</p>\n",
              "<center><a class=\"project-link\" href=\"https://leportella.com\">Site</a></center>\n",
              "</img></div>\n",
              "<div class=\"tech\">\n",
              "<h2>Jessica Temporal</h2>\n",
              "<img alt=\"foto da Jess Temporal\" src=\"https://i.imgur.com/DbhFvDr.jpg\"/>\n",
              "<p>Jessica se apaixonou pela ciência de dados analisando dados biológicos ainda na faculdade. Mudou totalmente o foco de suas análises ao se envolver com a Operação Serenata de Amor. Hoje leva seus cachos e seu amor por dados para compor o time de ciência de dados na TV Globo.</p>\n",
              "<center><a class=\"project-link\" href=\"https://jtemporal.com\">Site</a><center>\n",
              "</center></center></div>\n",
              "<div class=\"tech\">\n",
              "<h2>Gustavo Coelho</h2>\n",
              "<img alt=\"foto da Gust Coelho\" src=\"https://i.imgur.com/jK2yR0q.jpg\"/>\n",
              "<p>Gustavo é líder do time de Ciência de Dados da Rocketmat, aplicando inteligência artificial em RH. Apesar de ter conquistado seu sonho de criança, na verdade ele é formado em economia :P. Ele é conhecido como o alívio cômico do podcast e ganhou o título de muso do Pizza.</p>\n",
              "<center><a class=\"project-link\" href=\"https://gusrabbit.com\">Site</a></center>\n",
              "</div>\n",
              "</div>\n",
              "</section>\n",
              "<section id=\"vemcomagente\">\n",
              "<div class=\"user-details\">\n",
              "<h1> Uma pizza tamanho família </h1>\n",
              "<p>Esse grupo diverso estuda ciência de dados para salvar o mundo!</p>\n",
              "</div>\n",
              "<div class=\"user\">\n",
              "<div class=\"tech\">\n",
              "<h2>Assine</h2>\n",
              "<p>Dá pra escutar o Pizza em diversas plataformas! Escolha a sua preferida ;)</p>\n",
              "<center>\n",
              "<a class=\"project-link\" href=\"https://itunes.apple.com/us/podcast/pizza-de-dados/id1323137071\">\n",
              "<i class=\"icon fa fa-podcast\"></i>  iTunes\n",
              "        </a>\n",
              "<a class=\"project-link\" href=\"https://open.spotify.com/show/5k0Ei0MSg5BuiHshr43aSg\">\n",
              "<i class=\"icon fa fa-spotify\"></i>  Spotify\n",
              "        </a>\n",
              "<a class=\"project-link\" href=\"https://feeds.feedburner.com/PizzaDeDados\">\n",
              "<i class=\"icon fa fa-rss\"></i>  RSS\n",
              "        </a>\n",
              "</center>\n",
              "</div>\n",
              "<div class=\"tech\">\n",
              "<h2>Apoie</h2>\n",
              "<p>Nós temos uma campanha de financiamento recorrente para ajudar a pagar a edição dos episódios. Se você gosta do nosso trabalho considere nos pagar um café ;)</p>\n",
              "<center><a class=\"project-link\" href=\"https://apoia.se/pizzadedados\">Para a campanha</a></center>\n",
              "</div>\n",
              "<div class=\"tech\">\n",
              "<h2>Partners</h2>\n",
              "<p><a href=\"https://databootcamp.com.br\">Data Bootcamp</a>, o maior bootcamp de Data Science do Brasil! Aprenda a organizar, extrair e interpretar os dados da sua empresa com as tecnologias mais avançadas usadas no mercado.</p>\n",
              "<a href=\"https://databootcamp.com.br\"><img src=\"https://databootcamp.com.br/static/img/logo.png\" style=\"background: #1f2845;\"/></a>\n",
              "</div>\n",
              "</div>\n",
              "</section>\n",
              "<footer class=\"footer\">\n",
              "<p>© Pizza de Dados</p>\n",
              "<p>Build with Jekyll and <span class=\"love\">❤</span> by <a href=\"https://github.com/nrandecker\">Nathan Randecker</a></p>\n",
              "</footer>\n",
              "</body>"
            ]
          },
          "metadata": {
            "tags": []
          },
          "execution_count": 58
        }
      ]
    },
    {
      "cell_type": "code",
      "metadata": {
        "colab": {
          "base_uri": "https://localhost:8080/"
        },
        "id": "U12n_H2NwtqG",
        "outputId": "0b4640db-a75a-470f-f85f-59a495e3aa66"
      },
      "source": [
        "sopa.ol"
      ],
      "execution_count": 59,
      "outputs": [
        {
          "output_type": "execute_result",
          "data": {
            "text/plain": [
              "<ol>\n",
              "<li>Só vamos fazer isso enquanto estiver divertido para todos;</li>\n",
              "<li>Não vamos fazer por pressão (de datas, de publicação, de frequência…);</li>\n",
              "<li>Nem todos os pizzaiolos originais devem estar em um episódio.</li>\n",
              "</ol>"
            ]
          },
          "metadata": {
            "tags": []
          },
          "execution_count": 59
        }
      ]
    },
    {
      "cell_type": "code",
      "metadata": {
        "colab": {
          "base_uri": "https://localhost:8080/"
        },
        "id": "JwwTpC2kwvs9",
        "outputId": "d86fcf9e-60c0-40b8-feb7-362af3acf137"
      },
      "source": [
        "sopa.p"
      ],
      "execution_count": 60,
      "outputs": [
        {
          "output_type": "execute_result",
          "data": {
            "text/plain": [
              "<p> O Pizza de Dados é uma iniciativa de 3 apaixonados por ciência de dados que viviam discutindo assuntos, links e conselhos de carreira. A vontade de aprender mais e compartilhar conhecimento era comum a todos e a ausência de um canal em português para tratar desses temas, levou à ideia de formar o pizza de dados.</p>"
            ]
          },
          "metadata": {
            "tags": []
          },
          "execution_count": 60
        }
      ]
    },
    {
      "cell_type": "code",
      "metadata": {
        "colab": {
          "base_uri": "https://localhost:8080/"
        },
        "id": "VEgshdDdwx2d",
        "outputId": "001acfa7-7a66-497f-db61-202ca2918cc9"
      },
      "source": [
        "sopa.h2"
      ],
      "execution_count": 61,
      "outputs": [
        {
          "output_type": "execute_result",
          "data": {
            "text/plain": [
              "<h2>Leticia Portella</h2>"
            ]
          },
          "metadata": {
            "tags": []
          },
          "execution_count": 61
        }
      ]
    },
    {
      "cell_type": "code",
      "metadata": {
        "colab": {
          "base_uri": "https://localhost:8080/"
        },
        "id": "1YYoTsY2w_YF",
        "outputId": "5685512e-b631-4052-ac7f-34f3570fdcd1"
      },
      "source": [
        "sopa.a"
      ],
      "execution_count": 62,
      "outputs": [
        {
          "output_type": "execute_result",
          "data": {
            "text/plain": [
              "<a aria-label=\"Manda e-mail\" href=\"/cdn-cgi/l/email-protection#3141584b4b5055545550555e4271565c50585d1f525e5c\"><i class=\"icon fa fa-envelope\"></i></a>"
            ]
          },
          "metadata": {
            "tags": []
          },
          "execution_count": 62
        }
      ]
    }
  ]
}