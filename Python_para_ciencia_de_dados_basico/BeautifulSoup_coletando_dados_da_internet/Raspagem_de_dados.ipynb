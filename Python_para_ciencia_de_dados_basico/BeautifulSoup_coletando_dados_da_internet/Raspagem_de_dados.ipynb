{
  "nbformat": 4,
  "nbformat_minor": 0,
  "metadata": {
    "colab": {
      "name": "Raspagem_de_dados.ipynb",
      "provenance": [],
      "collapsed_sections": [],
      "toc_visible": true
    },
    "kernelspec": {
      "name": "python3",
      "display_name": "Python 3"
    }
  },
  "cells": [
    {
      "cell_type": "markdown",
      "metadata": {
        "id": "tnl0UsAOOoYq"
      },
      "source": [
        "# **Coletando dados na internet**\r\n",
        "\r\n",
        "## **Raspagem de dados**\r\n"
      ]
    },
    {
      "cell_type": "code",
      "metadata": {
        "id": "wZ8P5yghOfQ-"
      },
      "source": [
        "import re\r\n",
        "from bs4 import BeautifulSoup\r\n",
        "from requests import get"
      ],
      "execution_count": 4,
      "outputs": []
    },
    {
      "cell_type": "code",
      "metadata": {
        "colab": {
          "base_uri": "https://localhost:8080/"
        },
        "id": "72D8jU5VQONP",
        "outputId": "475c2481-e98b-4a03-dd4c-c0502e4ddcad"
      },
      "source": [
        "r = get('https://pizzadedados.com')\r\n",
        "\r\n",
        "r.content"
      ],
      "execution_count": 6,
      "outputs": [
        {
          "output_type": "execute_result",
          "data": {
            "text/plain": [
              "b'<!DOCTYPE html>\\r\\n\\r\\n<html lang=\"pt-br\">\\r\\n\\r\\n  <head>\\r\\n  <meta charset=\"utf-8\">\\r\\n  <meta http-equiv=\"X-UA-Compatible\" content=\"IE=edge\">\\r\\n  <meta name=\"viewport\" content=\"width=device-width, initial-scale=1\">\\r\\n  <meta name=\"google-site-verification\" content=\"fORI6r2VVZHziv8pS917geJaVgJCRAEK6BViHOWI5ck\" /> <!-- jess -->\\r\\n  <meta name=\"google-site-verification\" content=\"PXb5dUl105r4jBsDy4KUIPGuk4HcVLTpIJY187NY5A8\" /> <!-- pizza --> \\r\\n  <meta name=\"og:image\" content=\"\"/>\\r\\n  <title>Pizza de Dados</title>\\r\\n  <meta name=\"description\" content=\"O primeiro e o mais querido podcast sobre ci\\xc3\\xaancia de dados no Brasil\">\\r\\n\\r\\n  <link rel=\"stylesheet\" href=\"/assets/css/main.css\">\\r\\n</head>\\r\\n\\r\\n  <body>\\r\\n      <div id=\"particles-js\">\\r\\n  <div class=\"header\">\\r\\n      <h1 style=\"padding-bottom: 1em;\">\\r\\n          <img src=\"/assets/img/signo.png\">\\r\\n        <span class=\"site-description\">Pizza de Dados</span>\\r\\n      </h1><br><br>\\r\\n      <div class=\"header-icons\">\\r\\n        <a aria-label=\"Manda e-mail\" href=\"/cdn-cgi/l/email-protection#3949504343585d5c5d585d564a795e54585055175a5654\"><i class=\"icon fa fa-envelope\"></i></a>\\r\\n        <a aria-label=\"Twitter\" target=\"_blank\" href=\"https://twitter.com/pizzadedados\"><i class=\"icon fa fa-twitter\" aria-hidden=\"true\"></i></a>\\r\\n        <a aria-label=\"Facebook\" target=\"_blank\" href=\"https://fb.com/pizzadedados\"><i class=\"icon fa fa-facebook-square\" aria-hidden=\"true\"></i></a>\\r\\n        <a aria-label=\"YouTube\" target=\"_blank\" href=\"https://youtube.com/c/pizzadedados\"><i class=\"icon fa fa-youtube-play\" aria-hidden=\"true\"></i></a>\\r\\n        <a aria-label=\"Instagram\" target=\"_blank\" href=\"https://www.instagram.com/pizzadedados\"><i class=\"icon fa fa-instagram\" aria-hidden=\"true\"></i></a>\\r\\n        <a aria-label=\"Github\" target=\"_blank\" href=\"https://github.com/pizzadedados\"><i class=\"icon fa fa-github-alt\" aria-hidden=\"true\"></i></a>\\r\\n      </div>\\r\\n      <div class=\"header-links\">\\r\\n        \\r\\n        <a class=\"link\" href=\"#about\" data-scroll>Sobre</a>\\r\\n        <a class=\"link\" href=\"#pizzaiolos\" data-scroll>Quem somos</a>\\r\\n<!--\\r\\n        <a class=\"link\" href=\"#projects\" data-scroll>Projects</a>\\r\\n-->\\r\\n        <a class=\"link\" target=\"_blank\" href=\"https://medium.com/pizzadedados\">Revista</a>\\r\\n        <a class=\"link\" target=\"_blank\" href=\"https://podcast.pizzadedados.com/\">Epis\\xc3\\xb3dios</a>\\r\\n        <a class=\"link\" href=\"#vemcomagente\" data-scroll>Assine</a>\\r\\n        <a class=\"link\" href=\"#vemcomagente\" data-scroll>Apoie</a>\\r\\n        <a class=\"link\" href=\"/en\" >English</a>\\r\\n        \\r\\n        \\r\\n      </div>\\r\\n  </div>\\r\\n  <br>\\r\\n  <br>\\r\\n  <a class=\"down\" href=\"#about\" data-scroll><i class=\"icon fa fa-chevron-down\" aria-hidden=\"true\"></i></a>\\r\\n</div>\\r\\n\\r\\n      <section id=\"about\">\\r\\n        \\r\\n <div class=\"user-details\">\\r\\n  <h1> Sobre o Pizza de Dados </h1>\\r\\n  <p> O Pizza de Dados \\xc3\\xa9 uma iniciativa de 3 apaixonados por ci\\xc3\\xaancia de dados que viviam discutindo assuntos, links e conselhos de carreira. A vontade de aprender mais e compartilhar conhecimento era comum a todos e a aus\\xc3\\xaancia de um canal em portugu\\xc3\\xaas para tratar desses temas, levou \\xc3\\xa0 ideia de formar o pizza de dados.</p>\\r\\n\\r\\n  <p> O nome \\xc3\\xa9 uma esp\\xc3\\xa9cie de \\xe2\\x80\\x9chomenagem\\xe2\\x80\\x9d ao reposit\\xc3\\xb3rio <a href=\"https://guia.datascience.pizza/\">datascience.pizza</a>, que se tornou em pouco tempo uma refer\\xc3\\xaancia de material de estudos de ci\\xc3\\xaancia de dados em portugu\\xc3\\xaas.</p>\\r\\n\\r\\n  <p> Por ser algo feito de forma simples e leve por pessoas que normalmente se enfiam em muitos projetos ao mesmo tempo, o Pizza de Dados tem 3 regras b\\xc3\\xa1sicas:</p>\\r\\n\\r\\n<ol>\\r\\n    <li>S\\xc3\\xb3 vamos fazer isso enquanto estiver divertido para todos;</li>\\r\\n    <li>N\\xc3\\xa3o vamos fazer por press\\xc3\\xa3o (de datas, de publica\\xc3\\xa7\\xc3\\xa3o, de frequ\\xc3\\xaancia\\xe2\\x80\\xa6);</li>\\r\\n    <li>Nem todos os pizzaiolos originais devem estar em um epis\\xc3\\xb3dio.</li>\\r\\n</ol>\\r\\n\\r\\n  <p> Esperamos que voc\\xc3\\xaa se divirta, nos d\\xc3\\xaa feedback e aprenda um pouquinho! </p>\\r\\n</div>\\r\\n\\r\\n\\r\\n      </section>\\r\\n      <section id=\"pizzaiolos\">\\r\\n        \\r\\n<div class=\"user-details\">\\r\\n  <h1> Pizzaiolos </h1>\\r\\n<p>Conhe\\xc3\\xa7a um pouco mais das vozes que voc\\xc3\\xaa est\\xc3\\xa1 escutando.</p>\\r\\n</div>\\r\\n  <div class=\"user\">\\r\\n    <div class=\"tech\">\\r\\n      <h2>Leticia Portella</h2>\\r\\n    <img alt=\"foto da Lele Portella\" src=\"https://lh3.googleusercontent.com/-SOWIGDQ-BGM/XEcYjC2F_hI/AAAAAAAAgUQ/3r1h8P6E1kQPXGdcgoEKxtm6GpJNS7PLQCEwYBhgL/w280-h278-p/perfil.jpg\" />\\r\\n    <p>Let\\xc3\\xadcia \\xc3\\xa9 uma ocean\\xc3\\xb3grafa apaixonada por programa\\xc3\\xa7\\xc3\\xa3o que descobriu como unir sua forma\\xc3\\xa7\\xc3\\xa3o e sua paix\\xc3\\xa3o em uma \\xc3\\xbanica \\xc3\\xa1rea: ci\\xc3\\xaancia de dados. Gosta de escrever textos t\\xc3\\xa9cnicos, conhecer novos lugares e coleciona teorias sobre as Cr\\xc3\\xb4nicas de Gelo e Fogo em seu tempo livre.</p>\\r\\n      <center><a class=\"project-link\" href=\"https://leportella.com\">Site</a></center>\\r\\n    </div>\\r\\n    <div class=\"tech\">\\r\\n      <h2>Jessica Temporal</h2>\\r\\n      <img alt=\"foto da Jess Temporal\" src=\"https://i.imgur.com/DbhFvDr.jpg\" />\\r\\n      <p>Jessica se apaixonou pela ci\\xc3\\xaancia de dados analisando dados biol\\xc3\\xb3gicos ainda na faculdade. Mudou totalmente o foco de suas an\\xc3\\xa1lises ao se envolver com a Opera\\xc3\\xa7\\xc3\\xa3o Serenata de Amor. Hoje leva seus cachos e seu amor por dados para compor o time de ci\\xc3\\xaancia de dados na TV Globo.</p>\\r\\n      <center><a class=\"project-link\" href=\"https://jtemporal.com\">Site</a><center>\\r\\n    </div>\\r\\n    <div class=\"tech\">\\r\\n      <h2>Gustavo Coelho</h2>\\r\\n      <img alt=\"foto da Gust Coelho\" src=\"https://i.imgur.com/jK2yR0q.jpg\" />\\r\\n      <p>Gustavo \\xc3\\xa9 l\\xc3\\xadder do time de Ci\\xc3\\xaancia de Dados da Rocketmat, aplicando intelig\\xc3\\xaancia artificial em RH. Apesar de ter conquistado seu sonho de crian\\xc3\\xa7a, na verdade ele \\xc3\\xa9 formado em economia :P. Ele \\xc3\\xa9 conhecido como o al\\xc3\\xadvio c\\xc3\\xb4mico do podcast e ganhou o t\\xc3\\xadtulo de muso do Pizza.</p>\\r\\n      <center><a class=\"project-link\" href=\"https://gusrabbit.com\">Site</a></center>\\r\\n    </div>\\r\\n</div>\\r\\n\\r\\n\\r\\n      </section>\\r\\n      <section id=\"vemcomagente\">\\r\\n        \\r\\n <div class=\"user-details\">\\r\\n  <h1> Uma pizza tamanho fam\\xc3\\xadlia </h1>\\r\\n  <p>Esse grupo diverso estuda ci\\xc3\\xaancia de dados para salvar o mundo!</p>\\r\\n</div>\\r\\n  <div class=\"user\">\\r\\n    <div class=\"tech\">\\r\\n      <h2>Assine</h2>\\r\\n      <p>D\\xc3\\xa1 pra escutar o Pizza em diversas plataformas! Escolha a sua preferida ;)</p>\\r\\n      <center>\\r\\n        <a class=\"project-link\" href=\"https://itunes.apple.com/us/podcast/pizza-de-dados/id1323137071\">\\r\\n          <i class=\"icon fa fa-podcast\"></i>  iTunes\\r\\n        </a>\\r\\n        <a class=\"project-link\" href=\"https://open.spotify.com/show/5k0Ei0MSg5BuiHshr43aSg\">\\r\\n          <i class=\"icon fa fa-spotify\"></i>  Spotify\\r\\n        </a>\\r\\n        <a class=\"project-link\" href=\"https://feeds.feedburner.com/PizzaDeDados\">\\r\\n          <i class=\"icon fa fa-rss\"></i>  RSS\\r\\n        </a>\\r\\n      </center>\\r\\n    </div>\\r\\n    <div class=\"tech\">\\r\\n      <h2>Apoie</h2>\\r\\n      <p>N\\xc3\\xb3s temos uma campanha de financiamento recorrente para ajudar a pagar a edi\\xc3\\xa7\\xc3\\xa3o dos epis\\xc3\\xb3dios. Se voc\\xc3\\xaa gosta do nosso trabalho considere nos pagar um caf\\xc3\\xa9 ;)</p>\\r\\n      <center><a class=\"project-link\" href=\"https://apoia.se/pizzadedados\">Para a campanha</a></center>\\r\\n    </div>\\r\\n    <div class=\"tech\">\\r\\n      <h2>Partners</h2>\\r\\n      <p><a href=\"https://databootcamp.com.br\">Data Bootcamp</a>, o maior bootcamp de Data Science do Brasil! Aprenda a organizar, extrair e interpretar os dados da sua empresa com as tecnologias mais avan\\xc3\\xa7adas usadas no mercado.</p>\\r\\n      <a href=\"https://databootcamp.com.br\"><img src=\"https://databootcamp.com.br/static/img/logo.png\" style=\"background: #1f2845;\"/></a>\\r\\n    </div>\\r\\n</div>\\r\\n\\r\\n\\r\\n      </section>\\r\\n        \\r\\n      <footer class=\"footer\">\\r\\n    <p>&copy; Pizza de Dados</p>\\r\\n    <p>Build with Jekyll and <span class=\"love\">\\xe2\\x9d\\xa4</span> by <a href=\"https://github.com/nrandecker\">Nathan Randecker</a></p>\\r\\n</footer>\\r\\n<script data-cfasync=\"false\" src=\"/cdn-cgi/scripts/5c5dd728/cloudflare-static/email-decode.min.js\"></script><script src=\"//cdn.jsdelivr.net/particles.js/2.0.0/particles.min.js\"></script>\\r\\n<script src=\"/assets/js/sweet-scroll.min.js\"></script>\\r\\n<script src=\"/assets/js/main.js\"></script>\\r\\n<!-- Google Analytics -->\\r\\n\\r\\n<script>\\r\\n(function(i,s,o,g,r,a,m){i[\\'GoogleAnalyticsObject\\']=r;i[r]=i[r]||function(){\\r\\n  (i[r].q=i[r].q||[]).push(arguments)},i[r].l=1*new Date();a=s.createElement(o),\\r\\n  m=s.getElementsByTagName(o)[0];a.async=1;a.src=g;m.parentNode.insertBefore(a,m)\\r\\n})(window,document,\\'script\\',\\'https://www.google-analytics.com/analytics.js\\',\\'ga\\');\\r\\nga(\\'create\\', \\'UA-106178084-2\\', \\'auto\\');\\r\\nga(\\'send\\', \\'pageview\\');\\r\\n</script>\\r\\n\\r\\n\\r\\n\\r\\n  </body>\\r\\n'"
            ]
          },
          "metadata": {
            "tags": []
          },
          "execution_count": 6
        }
      ]
    },
    {
      "cell_type": "markdown",
      "metadata": {
        "id": "AL-fHuPZQ5sG"
      },
      "source": [
        "# **Raspando dados**"
      ]
    },
    {
      "cell_type": "code",
      "metadata": {
        "colab": {
          "base_uri": "https://localhost:8080/"
        },
        "id": "lECBUCGbPG7S",
        "outputId": "0f4fbefd-9224-48d9-cbb6-84e8cd871ac7"
      },
      "source": [
        "sopa = BeautifulSoup( r.content.decode('utf-8') , 'html.parser' )\r\n",
        "\r\n",
        "#imprime os 100 primeiros caracteres\r\n",
        "print( sopa.prettify()[:100] )"
      ],
      "execution_count": 11,
      "outputs": [
        {
          "output_type": "stream",
          "text": [
            "<!DOCTYPE html>\n",
            "<html lang=\"pt-br\">\n",
            " <head>\n",
            "  <meta charset=\"utf-8\"/>\n",
            "  <meta content=\"IE=edge\" http\n"
          ],
          "name": "stdout"
        }
      ]
    },
    {
      "cell_type": "code",
      "metadata": {
        "colab": {
          "base_uri": "https://localhost:8080/"
        },
        "id": "s3u6IXfLRLa8",
        "outputId": "287e45aa-e35d-464a-9c5e-db0c2c0f5695"
      },
      "source": [
        "for link in sopa.find_all('a'):\r\n",
        "  print( link.get('href') )"
      ],
      "execution_count": 12,
      "outputs": [
        {
          "output_type": "stream",
          "text": [
            "/cdn-cgi/l/email-protection#3949504343585d5c5d585d564a795e54585055175a5654\n",
            "https://twitter.com/pizzadedados\n",
            "https://fb.com/pizzadedados\n",
            "https://youtube.com/c/pizzadedados\n",
            "https://www.instagram.com/pizzadedados\n",
            "https://github.com/pizzadedados\n",
            "#about\n",
            "#pizzaiolos\n",
            "https://medium.com/pizzadedados\n",
            "https://podcast.pizzadedados.com/\n",
            "#vemcomagente\n",
            "#vemcomagente\n",
            "/en\n",
            "#about\n",
            "https://guia.datascience.pizza/\n",
            "https://leportella.com\n",
            "https://jtemporal.com\n",
            "https://gusrabbit.com\n",
            "https://itunes.apple.com/us/podcast/pizza-de-dados/id1323137071\n",
            "https://open.spotify.com/show/5k0Ei0MSg5BuiHshr43aSg\n",
            "https://feeds.feedburner.com/PizzaDeDados\n",
            "https://apoia.se/pizzadedados\n",
            "https://databootcamp.com.br\n",
            "https://databootcamp.com.br\n",
            "https://github.com/nrandecker\n"
          ],
          "name": "stdout"
        }
      ]
    },
    {
      "cell_type": "code",
      "metadata": {
        "colab": {
          "base_uri": "https://localhost:8080/"
        },
        "id": "Z7j55dbrRw7D",
        "outputId": "61f6f00e-19aa-47b0-a091-fc85223152e2"
      },
      "source": [
        "#procura todas as strings que iniciam com http\r\n",
        "parametros_de_busca = { 'href' : re.compile('^http') }\r\n",
        "\r\n",
        "for link in sopa.find_all('a', attrs=parametros_de_busca):\r\n",
        "  print(link)"
      ],
      "execution_count": 14,
      "outputs": [
        {
          "output_type": "stream",
          "text": [
            "<a aria-label=\"Twitter\" href=\"https://twitter.com/pizzadedados\" target=\"_blank\"><i aria-hidden=\"true\" class=\"icon fa fa-twitter\"></i></a>\n",
            "<a aria-label=\"Facebook\" href=\"https://fb.com/pizzadedados\" target=\"_blank\"><i aria-hidden=\"true\" class=\"icon fa fa-facebook-square\"></i></a>\n",
            "<a aria-label=\"YouTube\" href=\"https://youtube.com/c/pizzadedados\" target=\"_blank\"><i aria-hidden=\"true\" class=\"icon fa fa-youtube-play\"></i></a>\n",
            "<a aria-label=\"Instagram\" href=\"https://www.instagram.com/pizzadedados\" target=\"_blank\"><i aria-hidden=\"true\" class=\"icon fa fa-instagram\"></i></a>\n",
            "<a aria-label=\"Github\" href=\"https://github.com/pizzadedados\" target=\"_blank\"><i aria-hidden=\"true\" class=\"icon fa fa-github-alt\"></i></a>\n",
            "<a class=\"link\" href=\"https://medium.com/pizzadedados\" target=\"_blank\">Revista</a>\n",
            "<a class=\"link\" href=\"https://podcast.pizzadedados.com/\" target=\"_blank\">Episódios</a>\n",
            "<a href=\"https://guia.datascience.pizza/\">datascience.pizza</a>\n",
            "<a class=\"project-link\" href=\"https://leportella.com\">Site</a>\n",
            "<a class=\"project-link\" href=\"https://jtemporal.com\">Site</a>\n",
            "<a class=\"project-link\" href=\"https://gusrabbit.com\">Site</a>\n",
            "<a class=\"project-link\" href=\"https://itunes.apple.com/us/podcast/pizza-de-dados/id1323137071\">\n",
            "<i class=\"icon fa fa-podcast\"></i>  iTunes\r\n",
            "        </a>\n",
            "<a class=\"project-link\" href=\"https://open.spotify.com/show/5k0Ei0MSg5BuiHshr43aSg\">\n",
            "<i class=\"icon fa fa-spotify\"></i>  Spotify\r\n",
            "        </a>\n",
            "<a class=\"project-link\" href=\"https://feeds.feedburner.com/PizzaDeDados\">\n",
            "<i class=\"icon fa fa-rss\"></i>  RSS\r\n",
            "        </a>\n",
            "<a class=\"project-link\" href=\"https://apoia.se/pizzadedados\">Para a campanha</a>\n",
            "<a href=\"https://databootcamp.com.br\">Data Bootcamp</a>\n",
            "<a href=\"https://databootcamp.com.br\"><img src=\"https://databootcamp.com.br/static/img/logo.png\" style=\"background: #1f2845;\"/></a>\n",
            "<a href=\"https://github.com/nrandecker\">Nathan Randecker</a>\n"
          ],
          "name": "stdout"
        }
      ]
    },
    {
      "cell_type": "code",
      "metadata": {
        "colab": {
          "base_uri": "https://localhost:8080/"
        },
        "id": "h2SI5PHaS0RG",
        "outputId": "41245719-f3d4-43c0-9fbc-365ec539f4ba"
      },
      "source": [
        "file = open('pizza_data.txt', 'w')\r\n",
        "\r\n",
        "for link in sopa.find_all('a' , parametros_de_busca):\r\n",
        "  sopa_link = str( link.get('href') )\r\n",
        "  print( sopa_link ) \r\n",
        "  file.write( sopa_link )\r\n",
        "  file.write( '\\n' )\r\n",
        "\r\n",
        "file.flush()\r\n",
        "file.close()"
      ],
      "execution_count": 16,
      "outputs": [
        {
          "output_type": "stream",
          "text": [
            "https://twitter.com/pizzadedados\n",
            "https://fb.com/pizzadedados\n",
            "https://youtube.com/c/pizzadedados\n",
            "https://www.instagram.com/pizzadedados\n",
            "https://github.com/pizzadedados\n",
            "https://medium.com/pizzadedados\n",
            "https://podcast.pizzadedados.com/\n",
            "https://guia.datascience.pizza/\n",
            "https://leportella.com\n",
            "https://jtemporal.com\n",
            "https://gusrabbit.com\n",
            "https://itunes.apple.com/us/podcast/pizza-de-dados/id1323137071\n",
            "https://open.spotify.com/show/5k0Ei0MSg5BuiHshr43aSg\n",
            "https://feeds.feedburner.com/PizzaDeDados\n",
            "https://apoia.se/pizzadedados\n",
            "https://databootcamp.com.br\n",
            "https://databootcamp.com.br\n",
            "https://github.com/nrandecker\n"
          ],
          "name": "stdout"
        }
      ]
    },
    {
      "cell_type": "code",
      "metadata": {
        "colab": {
          "base_uri": "https://localhost:8080/"
        },
        "id": "t09x4SB9UNnf",
        "outputId": "06dcac22-410f-49f8-a25c-1aae7404932d"
      },
      "source": [
        "ls\r\n"
      ],
      "execution_count": 17,
      "outputs": [
        {
          "output_type": "stream",
          "text": [
            "pizza_data.txt  \u001b[0m\u001b[01;34msample_data\u001b[0m/\n"
          ],
          "name": "stdout"
        }
      ]
    }
  ]
}