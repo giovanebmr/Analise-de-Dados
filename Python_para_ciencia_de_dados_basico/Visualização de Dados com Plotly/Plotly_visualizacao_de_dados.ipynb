{
  "nbformat": 4,
  "nbformat_minor": 0,
  "metadata": {
    "colab": {
      "name": "Plotly_visualizacao_de_dados.ipynb",
      "provenance": [],
      "collapsed_sections": []
    },
    "kernelspec": {
      "name": "python3",
      "display_name": "Python 3"
    }
  },
  "cells": [
    {
      "cell_type": "markdown",
      "metadata": {
        "id": "bXN-9IMG_lR5"
      },
      "source": [
        "# **Visualização de Dados com o Plotly**\r\n",
        "### Configuração do Plotly"
      ]
    },
    {
      "cell_type": "code",
      "metadata": {
        "id": "fc-fK9X0_Cv6"
      },
      "source": [
        "%pip install cufflinks"
      ],
      "execution_count": null,
      "outputs": []
    },
    {
      "cell_type": "code",
      "metadata": {
        "id": "VAasDMZGH0Tn"
      },
      "source": [
        "#A partir do plotly versão 4.0, todas as funcionalidades relacionadas ao Chart Studio foram movidas para a chart_studiobiblioteca. \r\n",
        "#https://plotly.com/python/v4-migration/#online-features-plotlyplotly-moved-to-chartstudio-package\r\n",
        "%pip install chart-studio"
      ],
      "execution_count": null,
      "outputs": []
    },
    {
      "cell_type": "code",
      "metadata": {
        "id": "nKrZ9Sgn_heJ"
      },
      "source": [
        "import pandas as pd\r\n",
        "import cufflinks as cl\r\n",
        "\r\n",
        "#https://chart-studio.plotly.com/settings/api\r\n",
        "#import plotly.tools as tls\r\n",
        "#from chart_studio.plotly import plot, iplot\r\n",
        "import chart_studio\r\n"
      ],
      "execution_count": 64,
      "outputs": []
    },
    {
      "cell_type": "code",
      "metadata": {
        "id": "NiImjuEsACmW"
      },
      "source": [
        "#https://plotly.com/python/getting-started-with-chart-studio/\r\n",
        "chart_studio.tools.set_credentials_file(username='giovanebmr', api_key='cK2EmejarWAwyyYW9PN7')\r\n",
        "\r\n",
        "#colocando o gráfico no modo de compartilhamento privado\r\n",
        "chart_studio.tools.set_config_file(world_readable=False, sharing='private')\r\n",
        "\r\n",
        "caminho = '/content/df_vendas_novo.csv'\r\n",
        "data = pd.read_csv(caminho)\r\n",
        "data.columns = ['Data Venda','Data Envio','ID Loja','ID Produto','ID Cliente','No. Venda','Custo Unitário','Preço Unitário','Quantidade','Valor Desconto','Valor Venda','Produto','Fabricante','Marca','Classe','Cor','custo','lucro','Tempo de envio']\r\n",
        "\r\n",
        "df = data[['Valor Venda','lucro','Quantidade']]"
      ],
      "execution_count": 62,
      "outputs": []
    },
    {
      "cell_type": "markdown",
      "metadata": {
        "id": "26VTyQ6pDdFR"
      },
      "source": [
        "# **Criando um gráfico de linhas com DataFrame Pandas**"
      ]
    },
    {
      "cell_type": "code",
      "metadata": {
        "id": "Yon3tLLYDjpj"
      },
      "source": [
        "layout = {\r\n",
        "    'title':'Gráfico de um DataFrame',\r\n",
        "    'xaxis':{'title':'eixo X'},\r\n",
        "    'yaxis':{'title':'eixo Y'}\r\n",
        "}"
      ],
      "execution_count": 60,
      "outputs": []
    },
    {
      "cell_type": "code",
      "metadata": {
        "colab": {
          "base_uri": "https://localhost:8080/",
          "height": 546
        },
        "id": "3brZwoHYMjd1",
        "outputId": "7ab8b69c-dd23-4fc8-a373-a3ac12d7d6b7"
      },
      "source": [
        "df.iplot(filename='grafico-de-linhas-plotly', layout=layout)"
      ],
      "execution_count": 63,
      "outputs": [
        {
          "output_type": "execute_result",
          "data": {
            "text/html": [
              "\n",
              "        <iframe\n",
              "            width=\"100%\"\n",
              "            height=\"525px\"\n",
              "            src=\"https://plotly.com/~giovanebmr/1.embed\"\n",
              "            frameborder=\"0\"\n",
              "            allowfullscreen\n",
              "        ></iframe>\n",
              "        "
            ],
            "text/plain": [
              "<IPython.lib.display.IFrame at 0x7efe4be8d9b0>"
            ]
          },
          "metadata": {
            "tags": []
          },
          "execution_count": 63
        }
      ]
    }
  ]
}