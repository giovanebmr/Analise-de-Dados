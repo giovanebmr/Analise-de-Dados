{
  "nbformat": 4,
  "nbformat_minor": 0,
  "metadata": {
    "colab": {
      "name": "Histogramas_BoxPlots_e_ScatterPlots_com_Plotly.ipynb",
      "provenance": [],
      "collapsed_sections": []
    },
    "kernelspec": {
      "name": "python3",
      "display_name": "Python 3"
    }
  },
  "cells": [
    {
      "cell_type": "code",
      "metadata": {
        "id": "G3uYmDtWX0qm",
        "colab": {
          "base_uri": "https://localhost:8080/"
        },
        "outputId": "51b9f358-34e2-4eeb-8a4f-9921b88799ad"
      },
      "source": [
        "#A partir do plotly versão 4.0, todas as funcionalidades relacionadas ao Chart Studio foram movidas para a chart_studiobiblioteca. \r\n",
        "#https://plotly.com/python/v4-migration/#online-features-plotlyplotly-moved-to-chartstudio-package\r\n",
        "%pip install chart-studio"
      ],
      "execution_count": 37,
      "outputs": [
        {
          "output_type": "stream",
          "text": [
            "Requirement already satisfied: chart-studio in /usr/local/lib/python3.6/dist-packages (1.1.0)\n",
            "Requirement already satisfied: requests in /usr/local/lib/python3.6/dist-packages (from chart-studio) (2.23.0)\n",
            "Requirement already satisfied: six in /usr/local/lib/python3.6/dist-packages (from chart-studio) (1.15.0)\n",
            "Requirement already satisfied: plotly in /usr/local/lib/python3.6/dist-packages (from chart-studio) (4.4.1)\n",
            "Requirement already satisfied: retrying>=1.3.3 in /usr/local/lib/python3.6/dist-packages (from chart-studio) (1.3.3)\n",
            "Requirement already satisfied: idna<3,>=2.5 in /usr/local/lib/python3.6/dist-packages (from requests->chart-studio) (2.10)\n",
            "Requirement already satisfied: certifi>=2017.4.17 in /usr/local/lib/python3.6/dist-packages (from requests->chart-studio) (2020.12.5)\n",
            "Requirement already satisfied: urllib3!=1.25.0,!=1.25.1,<1.26,>=1.21.1 in /usr/local/lib/python3.6/dist-packages (from requests->chart-studio) (1.24.3)\n",
            "Requirement already satisfied: chardet<4,>=3.0.2 in /usr/local/lib/python3.6/dist-packages (from requests->chart-studio) (3.0.4)\n"
          ],
          "name": "stdout"
        }
      ]
    },
    {
      "cell_type": "code",
      "metadata": {
        "id": "2iFKcy0CWrp8"
      },
      "source": [
        "import pandas as pd\r\n",
        "import numpy as np\r\n",
        "import cufflinks as cf\r\n",
        "import chart_studio\r\n",
        "\r\n",
        "from sklearn.preprocessing import StandardScaler"
      ],
      "execution_count": 38,
      "outputs": []
    },
    {
      "cell_type": "code",
      "metadata": {
        "colab": {
          "base_uri": "https://localhost:8080/"
        },
        "id": "8LaTix72W7VY",
        "outputId": "4dea4d12-701d-480c-d56b-b1ae4b4770bd"
      },
      "source": [
        "#https://plotly.com/python/getting-started-with-chart-studio/\r\n",
        "chart_studio.tools.set_credentials_file(username='giovanebmr', api_key='cK2EmejarWAwyyYW9PN7')\r\n",
        "\r\n",
        "#colocando o gráfico no modo de compartilhamento privado\r\n",
        "chart_studio.tools.set_config_file(world_readable=False, sharing='private')\r\n",
        "\r\n",
        "caminho = '/content/df_vendas_novo.csv'\r\n",
        "data = pd.read_csv(caminho)\r\n",
        "data.columns = ['Data Venda','Data Envio','ID Loja','ID Produto','ID Cliente','No. Venda','Custo Unitário','Preço Unitário','Quantidade','Valor Desconto','Valor Venda','Produto','Fabricante','Marca','Classe','Cor','custo','lucro','Tempo de envio']\r\n",
        "\r\n",
        "df = data[ ['Valor Venda','lucro','Quantidade'] ]\r\n",
        "\r\n",
        "lucro = data.lucro\r\n",
        "print(lucro)"
      ],
      "execution_count": 39,
      "outputs": [
        {
          "output_type": "stream",
          "text": [
            "0      2456.52\n",
            "1      2456.52\n",
            "2      2456.52\n",
            "3      2456.52\n",
            "4      2456.52\n",
            "        ...   \n",
            "899    3588.48\n",
            "900    2755.86\n",
            "901    2755.86\n",
            "902    2809.26\n",
            "903    2755.86\n",
            "Name: lucro, Length: 904, dtype: float64\n"
          ],
          "name": "stdout"
        }
      ]
    },
    {
      "cell_type": "code",
      "metadata": {
        "colab": {
          "base_uri": "https://localhost:8080/",
          "height": 546
        },
        "id": "eu-LIbbjiNIv",
        "outputId": "f4e6431d-299d-468a-e483-76ab026fe05d"
      },
      "source": [
        "lucro.iplot(kind='histogram', filename='histograma-lucro')"
      ],
      "execution_count": 40,
      "outputs": [
        {
          "output_type": "execute_result",
          "data": {
            "text/html": [
              "\n",
              "        <iframe\n",
              "            width=\"100%\"\n",
              "            height=\"525px\"\n",
              "            src=\"https://plotly.com/~giovanebmr/8.embed\"\n",
              "            frameborder=\"0\"\n",
              "            allowfullscreen\n",
              "        ></iframe>\n",
              "        "
            ],
            "text/plain": [
              "<IPython.lib.display.IFrame at 0x7fa80d9709b0>"
            ]
          },
          "metadata": {
            "tags": []
          },
          "execution_count": 40
        }
      ]
    },
    {
      "cell_type": "code",
      "metadata": {
        "colab": {
          "base_uri": "https://localhost:8080/"
        },
        "id": "a_4am0gplOv6",
        "outputId": "3d22f178-5857-4cf1-92e1-c3078b6e5bac"
      },
      "source": [
        "colunas = ['Valor Venda','lucro','Quantidade']\r\n",
        "dados = data[colunas].values\r\n",
        "print(dados)"
      ],
      "execution_count": 41,
      "outputs": [
        {
          "output_type": "stream",
          "text": [
            "[[4548.   2456.52    6.  ]\n",
            " [4548.   2456.52    6.  ]\n",
            " [4548.   2456.52    6.  ]\n",
            " ...\n",
            " [4704.   2755.86    6.  ]\n",
            " [4795.2  2809.26    6.  ]\n",
            " [4704.   2755.86    6.  ]]\n"
          ],
          "name": "stdout"
        }
      ]
    },
    {
      "cell_type": "code",
      "metadata": {
        "colab": {
          "base_uri": "https://localhost:8080/",
          "height": 546
        },
        "id": "Smiis--Ulmme",
        "outputId": "40f85e2a-22c4-4614-c4c5-b4ca9ec5eeaf"
      },
      "source": [
        "dados_scaled = StandardScaler().fit_transform(dados)\r\n",
        "df = pd.DataFrame( dados_scaled )\r\n",
        "\r\n",
        "df.columns = colunas\r\n",
        "\r\n",
        "df.iplot(kind='histogram', filename='histograma-multiplo')"
      ],
      "execution_count": 42,
      "outputs": [
        {
          "output_type": "execute_result",
          "data": {
            "text/html": [
              "\n",
              "        <iframe\n",
              "            width=\"100%\"\n",
              "            height=\"525px\"\n",
              "            src=\"https://plotly.com/~giovanebmr/11.embed\"\n",
              "            frameborder=\"0\"\n",
              "            allowfullscreen\n",
              "        ></iframe>\n",
              "        "
            ],
            "text/plain": [
              "<IPython.lib.display.IFrame at 0x7fa80d442b38>"
            ]
          },
          "metadata": {
            "tags": []
          },
          "execution_count": 42
        }
      ]
    },
    {
      "cell_type": "code",
      "metadata": {
        "id": "P3EAK2Bq0S2P",
        "colab": {
          "base_uri": "https://localhost:8080/",
          "height": 546
        },
        "outputId": "07e88361-911c-4cdd-9ffa-486dc0e5a556"
      },
      "source": [
        "df.iplot(kind='histogram', subplots=True, filename='histograma-mult-subplot')\r\n"
      ],
      "execution_count": 43,
      "outputs": [
        {
          "output_type": "execute_result",
          "data": {
            "text/html": [
              "\n",
              "        <iframe\n",
              "            width=\"100%\"\n",
              "            height=\"525px\"\n",
              "            src=\"https://plotly.com/~giovanebmr/23.embed\"\n",
              "            frameborder=\"0\"\n",
              "            allowfullscreen\n",
              "        ></iframe>\n",
              "        "
            ],
            "text/plain": [
              "<IPython.lib.display.IFrame at 0x7fa80da076d8>"
            ]
          },
          "metadata": {
            "tags": []
          },
          "execution_count": 43
        }
      ]
    },
    {
      "cell_type": "code",
      "metadata": {
        "colab": {
          "base_uri": "https://localhost:8080/",
          "height": 546
        },
        "id": "1UyCsT7qH1f-",
        "outputId": "27ffaa8d-a1d1-49dd-9a20-706f138d733d"
      },
      "source": [
        "df.iplot(kind='histogram', subplots=True, shape=(3,1), filename='histograma-mult-subplot-shape1')"
      ],
      "execution_count": 44,
      "outputs": [
        {
          "output_type": "execute_result",
          "data": {
            "text/html": [
              "\n",
              "        <iframe\n",
              "            width=\"100%\"\n",
              "            height=\"525px\"\n",
              "            src=\"https://plotly.com/~giovanebmr/25.embed\"\n",
              "            frameborder=\"0\"\n",
              "            allowfullscreen\n",
              "        ></iframe>\n",
              "        "
            ],
            "text/plain": [
              "<IPython.lib.display.IFrame at 0x7fa80d3acf28>"
            ]
          },
          "metadata": {
            "tags": []
          },
          "execution_count": 44
        }
      ]
    },
    {
      "cell_type": "code",
      "metadata": {
        "colab": {
          "base_uri": "https://localhost:8080/",
          "height": 546
        },
        "id": "e0TLM5W5Iy9t",
        "outputId": "ec6607d1-5f71-4690-edc2-ab77cc7dee33"
      },
      "source": [
        "df.iplot(kind='histogram', subplots=True, shape=(1,3), filename='histograma-mult-subplot-shape2')"
      ],
      "execution_count": 45,
      "outputs": [
        {
          "output_type": "execute_result",
          "data": {
            "text/html": [
              "\n",
              "        <iframe\n",
              "            width=\"100%\"\n",
              "            height=\"525px\"\n",
              "            src=\"https://plotly.com/~giovanebmr/32.embed\"\n",
              "            frameborder=\"0\"\n",
              "            allowfullscreen\n",
              "        ></iframe>\n",
              "        "
            ],
            "text/plain": [
              "<IPython.lib.display.IFrame at 0x7fa8162f0c18>"
            ]
          },
          "metadata": {
            "tags": []
          },
          "execution_count": 45
        }
      ]
    },
    {
      "cell_type": "markdown",
      "metadata": {
        "id": "tS44nFmcI6ok"
      },
      "source": [
        "# **BoxPlots**"
      ]
    },
    {
      "cell_type": "code",
      "metadata": {
        "colab": {
          "base_uri": "https://localhost:8080/",
          "height": 546
        },
        "id": "5AOkCU9EI4AF",
        "outputId": "8a970ca5-e31d-4bcf-9d52-42668f7d65ec"
      },
      "source": [
        "df.iplot(kind='box', filename='boxplots')"
      ],
      "execution_count": 46,
      "outputs": [
        {
          "output_type": "execute_result",
          "data": {
            "text/html": [
              "\n",
              "        <iframe\n",
              "            width=\"100%\"\n",
              "            height=\"525px\"\n",
              "            src=\"https://plotly.com/~giovanebmr/34.embed\"\n",
              "            frameborder=\"0\"\n",
              "            allowfullscreen\n",
              "        ></iframe>\n",
              "        "
            ],
            "text/plain": [
              "<IPython.lib.display.IFrame at 0x7fa8176f2fd0>"
            ]
          },
          "metadata": {
            "tags": []
          },
          "execution_count": 46
        }
      ]
    },
    {
      "cell_type": "markdown",
      "metadata": {
        "id": "XIDYyF65JVBy"
      },
      "source": [
        "# **Scatter Plots**"
      ]
    },
    {
      "cell_type": "code",
      "metadata": {
        "id": "rSA6PBdkL6vM"
      },
      "source": [
        "import chart_studio.plotly as py"
      ],
      "execution_count": 48,
      "outputs": []
    },
    {
      "cell_type": "code",
      "metadata": {
        "colab": {
          "base_uri": "https://localhost:8080/",
          "height": 546
        },
        "id": "kZ4J9QjzJRLh",
        "outputId": "caa0e21f-a994-496c-80c5-aeb9c3d3c869"
      },
      "source": [
        "#['Valor Venda','lucro','Quantidade']\r\n",
        "\r\n",
        "fig = {\r\n",
        "    'data' : [\r\n",
        "            {'x':df.lucro, 'y':df['Valor Venda'],'mode':'markers', 'name':'Lucro'},\r\n",
        "            {'x':df.Quantidade, 'y':df['Valor Venda'],'mode':'markers', 'name':'Quantidade'},\r\n",
        "    ],\r\n",
        "    'layout': {\r\n",
        "        'xaxis':{'title':''},\r\n",
        "        'yaxis':{'title':'Deslocamento Padronizado'}\r\n",
        "    }\r\n",
        "}\r\n",
        "py.iplot(figure_or_data=fig, filename='scatterplot-lucro',sharing='public')"
      ],
      "execution_count": 55,
      "outputs": [
        {
          "output_type": "execute_result",
          "data": {
            "text/html": [
              "\n",
              "        <iframe\n",
              "            width=\"100%\"\n",
              "            height=\"525px\"\n",
              "            src=\"https://plotly.com/~giovanebmr/46.embed\"\n",
              "            frameborder=\"0\"\n",
              "            allowfullscreen\n",
              "        ></iframe>\n",
              "        "
            ],
            "text/plain": [
              "<IPython.lib.display.IFrame at 0x7fa80d81c978>"
            ]
          },
          "metadata": {
            "tags": []
          },
          "execution_count": 55
        }
      ]
    }
  ]
}