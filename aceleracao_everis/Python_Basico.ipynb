{
  "nbformat": 4,
  "nbformat_minor": 0,
  "metadata": {
    "colab": {
      "name": "Aceleracao-Python-Everis.ipynb",
      "provenance": []
    },
    "kernelspec": {
      "name": "python3",
      "display_name": "Python 3"
    }
  },
  "cells": [
    {
      "cell_type": "markdown",
      "metadata": {
        "id": "x2-67qUS1cH_"
      },
      "source": [
        "# **Aceleração Global Dev #4 everis**"
      ]
    },
    {
      "cell_type": "code",
      "metadata": {
        "colab": {
          "base_uri": "https://localhost:8080/"
        },
        "id": "Fx6fv2--6ht5",
        "outputId": "e545f33c-57fd-4706-b7dc-0c349d0b3536"
      },
      "source": [
        "def helloword():\r\n",
        "  name = \"Aceleração Global #4 - Everis\"\r\n",
        "  print(name)\r\n",
        "\r\n",
        "helloword()"
      ],
      "execution_count": 2,
      "outputs": [
        {
          "output_type": "stream",
          "text": [
            "Aceleração Global #4 - Everis\n"
          ],
          "name": "stdout"
        }
      ]
    },
    {
      "cell_type": "code",
      "metadata": {
        "colab": {
          "base_uri": "https://localhost:8080/"
        },
        "id": "nVUBCNYA1sdl",
        "outputId": "1002c258-b643-42d3-e137-64671dc63f50"
      },
      "source": [
        "def calcBalada(age):\r\n",
        "  if( age >= 18 ):\r\n",
        "    print('Beleza, pode entrar na balada')\r\n",
        "  else:\r\n",
        "    print('Não pode entrar na balada')\r\n",
        "\r\n",
        "calcBalada(18)"
      ],
      "execution_count": 3,
      "outputs": [
        {
          "output_type": "stream",
          "text": [
            "Beleza, pode entrar na balada\n"
          ],
          "name": "stdout"
        }
      ]
    },
    {
      "cell_type": "code",
      "metadata": {
        "colab": {
          "base_uri": "https://localhost:8080/"
        },
        "id": "vcdWxfmw2Fn1",
        "outputId": "b267e70d-224e-4837-f236-5747bd54e94f"
      },
      "source": [
        "def forExample():\r\n",
        "  #Definindo o array\r\n",
        "  names = ['Huguinho', 'John', 'John 2']\r\n",
        "\r\n",
        "  for name in names:\r\n",
        "    print('Aceleração global ' + name)\r\n",
        "\r\n",
        "#invocando a função\r\n",
        "forExample()"
      ],
      "execution_count": 5,
      "outputs": [
        {
          "output_type": "stream",
          "text": [
            "Aceleração global Huguinho\n",
            "Aceleração global John\n",
            "Aceleração global John 2\n"
          ],
          "name": "stdout"
        }
      ]
    },
    {
      "cell_type": "code",
      "metadata": {
        "colab": {
          "base_uri": "https://localhost:8080/"
        },
        "id": "YhneAMXA2otT",
        "outputId": "8757eb60-ed55-41d6-c6b7-877d2a5d118f"
      },
      "source": [
        "def mapExample():\r\n",
        "  person1 = {\r\n",
        "      'name' : 'Huguinho',\r\n",
        "      'title' : 'Expert IT Techonology'\r\n",
        "  }\r\n",
        "\r\n",
        "  for key in person1:\r\n",
        "    print('key: ', key, ' | value', person1[ key ])\r\n",
        "\r\n",
        "mapExample()"
      ],
      "execution_count": 7,
      "outputs": [
        {
          "output_type": "stream",
          "text": [
            "key:  name  | value Huguinho\n",
            "key:  title  | value Expert IT Techonology\n"
          ],
          "name": "stdout"
        }
      ]
    },
    {
      "cell_type": "code",
      "metadata": {
        "colab": {
          "base_uri": "https://localhost:8080/"
        },
        "id": "Z7IHT8cn3vIp",
        "outputId": "8cd54a1d-aee4-48a6-e8b6-c5d21e87551e"
      },
      "source": [
        "def forWithMap():\r\n",
        "\r\n",
        "  person1 = {\r\n",
        "      'name' : 'Huguinho',\r\n",
        "      'title' : 'Expert IT Techonology'\r\n",
        "  };\r\n",
        "\r\n",
        "  person2 = {\r\n",
        "      'name' : 'User 2',\r\n",
        "      'title' : 'Student from everis Aceleration'\r\n",
        "  };\r\n",
        "\r\n",
        "  lista = [];\r\n",
        "  lista.append( person1 );\r\n",
        "  lista.append( person2 );\r\n",
        "\r\n",
        "  print('tamanho do array', len( lista ) );\r\n",
        "\r\n",
        "  for obj in lista:\r\n",
        "    print('Nome: ', obj['name'], ' | title: ', obj['title'] );\r\n",
        "\r\n",
        "forWithMap();"
      ],
      "execution_count": 8,
      "outputs": [
        {
          "output_type": "stream",
          "text": [
            "tamanho do array 2\n",
            "Nome:  Huguinho  | title:  Expert IT Techonology\n",
            "Nome:  User 2  | title:  Student from everis Aceleration\n"
          ],
          "name": "stdout"
        }
      ]
    }
  ]
}