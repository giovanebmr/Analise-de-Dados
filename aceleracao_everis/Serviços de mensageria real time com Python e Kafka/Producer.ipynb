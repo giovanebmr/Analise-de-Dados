{
  "nbformat": 4,
  "nbformat_minor": 0,
  "metadata": {
    "colab": {
      "name": "Producer.ipynb",
      "provenance": [],
      "collapsed_sections": []
    },
    "kernelspec": {
      "name": "python3",
      "display_name": "Python 3"
    }
  },
  "cells": [
    {
      "cell_type": "code",
      "metadata": {
        "colab": {
          "base_uri": "https://localhost:8080/"
        },
        "id": "iZoxfnaZD0I7",
        "outputId": "0dc1dde3-52db-4a68-ce0e-3b6be8230168"
      },
      "source": [
        "!pip install confluent_kafka"
      ],
      "execution_count": 9,
      "outputs": [
        {
          "output_type": "stream",
          "text": [
            "Requirement already satisfied: confluent_kafka in /usr/local/lib/python3.6/dist-packages (1.5.0)\n"
          ],
          "name": "stdout"
        }
      ]
    },
    {
      "cell_type": "code",
      "metadata": {
        "colab": {
          "base_uri": "https://localhost:8080/"
        },
        "id": "cEJUkrB-EKWa",
        "outputId": "c5c6082d-cc2e-4d81-abbf-de7eeff87a04"
      },
      "source": [
        "import sys\r\n",
        "import os\r\n",
        "\r\n",
        "from confluent_kafka import Producer\r\n",
        "\r\n",
        "def delivery_callback(err, msg):\r\n",
        "    if err:\r\n",
        "        print('%% Message failed delivery: %s\\n', err)\r\n",
        "    else:\r\n",
        "        print('%% Message delivered to %s [%d]\\n',\r\n",
        "                          (msg.topic(), msg.partition()))\r\n",
        "\r\n",
        "def createTopic():\r\n",
        "    print(\"init\");\r\n",
        "    #topic = '25fi2ymi-topic1'\r\n",
        "    topic = 'dlgn5otp-default'\r\n",
        "\r\n",
        "    # Consumer configuration\r\n",
        "    # See https://github.com/edenhill/librdkafka/blob/master/CONFIGURATION.md\r\n",
        "    conf = {\r\n",
        "        'bootstrap.servers': 'tricycle-01.srvs.cloudkafka.com:9094,tricycle-02.srvs.cloudkafka.com:9094,tricycle-03.srvs.cloudkafka.com:9094',\r\n",
        "        'session.timeout.ms': 6000,\r\n",
        "        'default.topic.config': {'auto.offset.reset': 'smallest'},\r\n",
        "        'security.protocol': 'SASL_SSL',\r\n",
        "\t'sasl.mechanisms': 'SCRAM-SHA-256',\r\n",
        "        'sasl.username': 'dlgn5otp',\r\n",
        "        'sasl.password': 'HurTB65ExiykpbeE0E_Hl72dc3rm1L5_'\r\n",
        "    }\r\n",
        "\r\n",
        "    p = Producer(conf)\r\n",
        "\r\n",
        "    try:\r\n",
        "        p.produce(topic, \"my message new 2: ##### Mensagem enviada ao Consumidor! #####\", callback=delivery_callback)\r\n",
        "    except BufferError as e:\r\n",
        "        print('%% Local producer queue is full (%d messages awaiting delivery): try again\\n',\r\n",
        "                          len(p))\r\n",
        "    p.poll(0)\r\n",
        "\r\n",
        "    print('%% Waiting for %d deliveries\\n' % len(p))\r\n",
        "    p.flush()\r\n",
        "\r\n",
        "createTopic();"
      ],
      "execution_count": 19,
      "outputs": [
        {
          "output_type": "stream",
          "text": [
            "init\n",
            "% Waiting for 1 deliveries\n",
            "\n",
            "%% Message delivered to %s [%d]\n",
            " ('dlgn5otp-default', 4)\n"
          ],
          "name": "stdout"
        }
      ]
    }
  ]
}