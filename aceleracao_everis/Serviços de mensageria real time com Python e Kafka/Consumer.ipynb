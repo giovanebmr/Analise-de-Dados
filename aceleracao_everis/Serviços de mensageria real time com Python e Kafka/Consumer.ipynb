{
  "nbformat": 4,
  "nbformat_minor": 0,
  "metadata": {
    "colab": {
      "name": "Consumer.ipynb",
      "provenance": [],
      "collapsed_sections": []
    },
    "kernelspec": {
      "name": "python3",
      "display_name": "Python 3"
    }
  },
  "cells": [
    {
      "cell_type": "code",
      "metadata": {
        "colab": {
          "base_uri": "https://localhost:8080/"
        },
        "id": "20CKLnJeFh4L",
        "outputId": "5b41cb6f-1ea2-4afa-e3c4-9a497c445827"
      },
      "source": [
        "!pip install confluent_kafka"
      ],
      "execution_count": 1,
      "outputs": [
        {
          "output_type": "stream",
          "text": [
            "Collecting confluent_kafka\n",
            "\u001b[?25l  Downloading https://files.pythonhosted.org/packages/74/04/b131250b88c80201c4a648af1ab098798e1dcbf20807f79e3ce6e72c4ef4/confluent_kafka-1.5.0-cp36-cp36m-manylinux1_x86_64.whl (8.1MB)\n",
            "\u001b[K     |████████████████████████████████| 8.1MB 5.3MB/s \n",
            "\u001b[?25hInstalling collected packages: confluent-kafka\n",
            "Successfully installed confluent-kafka-1.5.0\n"
          ],
          "name": "stdout"
        }
      ]
    },
    {
      "cell_type": "code",
      "metadata": {
        "colab": {
          "base_uri": "https://localhost:8080/"
        },
        "id": "7Wi1eKiDFrie",
        "outputId": "dd7d0db4-6fff-44ff-b1ce-1500e303781c"
      },
      "source": [
        "import sys\r\n",
        "import os\r\n",
        "\r\n",
        "from confluent_kafka import Consumer, KafkaException, KafkaError\r\n",
        "\r\n",
        "def createConsumer():\r\n",
        "\r\n",
        "    topics = ['dlgn5otp-default']\r\n",
        "\r\n",
        "    # Consumer configuration\r\n",
        "    # See https://github.com/edenhill/librdkafka/blob/master/CONFIGURATION.md\r\n",
        "    conf = {\r\n",
        "        'bootstrap.servers': 'tricycle-01.srvs.cloudkafka.com:9094,tricycle-02.srvs.cloudkafka.com:9094,tricycle-03.srvs.cloudkafka.com:9094',\r\n",
        "        'group.id': \"%s-consumer\" % 'dlgn5otp',\r\n",
        "        'session.timeout.ms': 6000,\r\n",
        "        'default.topic.config': {'auto.offset.reset': 'smallest'},\r\n",
        "        'security.protocol': 'SASL_SSL',\r\n",
        "\t'sasl.mechanisms': 'SCRAM-SHA-256',\r\n",
        "        'sasl.username': 'dlgn5otp',\r\n",
        "        'sasl.password': 'HurTB65ExiykpbeE0E_Hl72dc3rm1L5_'\r\n",
        "    }\r\n",
        "\r\n",
        "    c = Consumer(conf)\r\n",
        "    c.subscribe(topics)\r\n",
        "    try:\r\n",
        "        while True:\r\n",
        "            msg = c.poll(timeout=1.0)\r\n",
        "            if msg is None:\r\n",
        "                continue\r\n",
        "            if msg.error():\r\n",
        "                # Error or event\r\n",
        "                if msg.error().code() == KafkaError._PARTITION_EOF:\r\n",
        "                    # End of partition event\r\n",
        "                    #offset abaixo é o índice de mensagens\r\n",
        "                    sys.stderr.write('%% %s [%d] reached end at offset %d\\n' %\r\n",
        "                                     (msg.topic(), msg.partition(), msg.offset()))\r\n",
        "                elif msg.error():\r\n",
        "                    # Error\r\n",
        "                    raise KafkaException(msg.error())\r\n",
        "            else:\r\n",
        "                # Proper message\r\n",
        "                sys.stderr.write('%% %s [%d] at offset %d with key %s:\\n' %\r\n",
        "                                 (msg.topic(), msg.partition(), msg.offset(),\r\n",
        "                                  str(msg.key())))\r\n",
        "                print(msg.value())\r\n",
        "\r\n",
        "    except KeyboardInterrupt:\r\n",
        "        sys.stderr.write('%% Aborted by user\\n')\r\n",
        "\r\n",
        "    # Close down consumer to commit final offsets.\r\n",
        "    c.close()\r\n",
        "\r\n",
        "createConsumer()"
      ],
      "execution_count": null,
      "outputs": [
        {
          "output_type": "stream",
          "text": [
            "% dlgn5otp-default [4] at offset 0 with key None:\n",
            "% dlgn5otp-default [4] at offset 1 with key None:\n"
          ],
          "name": "stderr"
        },
        {
          "output_type": "stream",
          "text": [
            "b'my message new 2'\n",
            "b'my message new 2'\n"
          ],
          "name": "stdout"
        },
        {
          "output_type": "stream",
          "text": [
            "% dlgn5otp-default [3] at offset 0 with key None:\n"
          ],
          "name": "stderr"
        },
        {
          "output_type": "stream",
          "text": [
            "b'my message new 2'\n"
          ],
          "name": "stdout"
        },
        {
          "output_type": "stream",
          "text": [
            "% dlgn5otp-default [0] at offset 0 with key None:\n"
          ],
          "name": "stderr"
        },
        {
          "output_type": "stream",
          "text": [
            "b'my message new 2: Mensagem enviada ao Consumidor!'\n"
          ],
          "name": "stdout"
        },
        {
          "output_type": "stream",
          "text": [
            "% dlgn5otp-default [4] at offset 2 with key None:\n"
          ],
          "name": "stderr"
        },
        {
          "output_type": "stream",
          "text": [
            "b'my message new 2: ##### Mensagem enviada ao Consumidor! #####'\n"
          ],
          "name": "stdout"
        },
        {
          "output_type": "stream",
          "text": [
            "% dlgn5otp-default [3] at offset 1 with key None:\n"
          ],
          "name": "stderr"
        },
        {
          "output_type": "stream",
          "text": [
            "b'my message new 2: ##### Mensagem enviada ao Consumidor! #####'\n"
          ],
          "name": "stdout"
        },
        {
          "output_type": "stream",
          "text": [
            "% dlgn5otp-default [1] at offset 0 with key None:\n"
          ],
          "name": "stderr"
        },
        {
          "output_type": "stream",
          "text": [
            "b'my message new 2: ##### Mensagem enviada ao Consumidor! #####'\n"
          ],
          "name": "stdout"
        },
        {
          "output_type": "stream",
          "text": [
            "% dlgn5otp-default [4] at offset 3 with key None:\n"
          ],
          "name": "stderr"
        },
        {
          "output_type": "stream",
          "text": [
            "b'my message new 2111: ##### Mensagem enviada ao Consumidor! #####'\n"
          ],
          "name": "stdout"
        }
      ]
    }
  ]
}